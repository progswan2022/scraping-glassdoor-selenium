{
 "cells": [
  {
   "cell_type": "markdown",
   "id": "40e5e631-ca2e-4420-8b9c-37414e34ed59",
   "metadata": {},
   "source": [
    "# Erin Swan-Siegel Data Science Capstone Project\n",
    "## CLEANING AND EDA\n",
    "\n",
    "Created on Saturday November 4th, 2023"
   ]
  },
  {
   "cell_type": "code",
   "execution_count": 120,
   "id": "e34e656c-2c40-4068-943d-6969f85edcfb",
   "metadata": {},
   "outputs": [
    {
     "name": "stderr",
     "output_type": "stream",
     "text": [
      "C:\\Users\\erins\\AppData\\Local\\Temp\\ipykernel_8908\\2838899987.py:10: FutureWarning: The default value of numeric_only in DataFrame.corr is deprecated. In a future version, it will default to False. Select only valid columns or specify the value of numeric_only to silence this warning.\n",
      "  df.corr()\n"
     ]
    },
    {
     "data": {
      "text/html": [
       "<div>\n",
       "<style scoped>\n",
       "    .dataframe tbody tr th:only-of-type {\n",
       "        vertical-align: middle;\n",
       "    }\n",
       "\n",
       "    .dataframe tbody tr th {\n",
       "        vertical-align: top;\n",
       "    }\n",
       "\n",
       "    .dataframe thead th {\n",
       "        text-align: right;\n",
       "    }\n",
       "</style>\n",
       "<table border=\"1\" class=\"dataframe\">\n",
       "  <thead>\n",
       "    <tr style=\"text-align: right;\">\n",
       "      <th></th>\n",
       "      <th>Company Rating</th>\n",
       "      <th>Year Founded</th>\n",
       "    </tr>\n",
       "  </thead>\n",
       "  <tbody>\n",
       "    <tr>\n",
       "      <th>Company Rating</th>\n",
       "      <td>1.000000</td>\n",
       "      <td>0.489619</td>\n",
       "    </tr>\n",
       "    <tr>\n",
       "      <th>Year Founded</th>\n",
       "      <td>0.489619</td>\n",
       "      <td>1.000000</td>\n",
       "    </tr>\n",
       "  </tbody>\n",
       "</table>\n",
       "</div>"
      ],
      "text/plain": [
       "                Company Rating  Year Founded\n",
       "Company Rating        1.000000      0.489619\n",
       "Year Founded          0.489619      1.000000"
      ]
     },
     "execution_count": 120,
     "metadata": {},
     "output_type": "execute_result"
    }
   ],
   "source": [
    "# Import necessary libraries \n",
    "import pandas as pd\n",
    "import seaborn as sns\n",
    "from matplotlib import pyplot as plt\n",
    "\n",
    "# Read in csv\n",
    "df = pd.read_csv(r\"C:\\Users\\erins\\OneDrive\\Desktop\\MS_Data_analytics\\44-688\\Capstone_Project\\scraping-glassdoor-selenium\\Company_Rating_Data.csv\", encoding='latin-1')\n",
    "\n",
    "# Pre-processing field correlation\n",
    "df.corr()"
   ]
  },
  {
   "cell_type": "code",
   "execution_count": 121,
   "id": "04c58122-21ce-480b-808e-49ed0157a22f",
   "metadata": {},
   "outputs": [],
   "source": [
    "# Drop undesired fields\n",
    "df = df.drop(['Number of Reviews','Average Salary','Job Openings','Location Website', 'Company Webpage', 'Global Size 2', 'Company Location', 'Industry 2', 'Headquarters','Industry'], axis=1)"
   ]
  },
  {
   "cell_type": "code",
   "execution_count": 122,
   "id": "7e01851c-7cbb-42f5-b117-c386521bcc9e",
   "metadata": {},
   "outputs": [],
   "source": [
    "# Check for and remove records with default values ('Unknown', -1)\n",
    "df = df[df['Global Size'] != -1] # 883 additional\n",
    "df = df[df['Global Size'] != 'Unknown']\n",
    "df = df[df['Company Rating'] != -1] # 144 additional\n",
    "df = df[df['Company Ownership Type'] != 'Unknown'] # 27 additional/\n",
    "df = df[df['Company Ownership Type'] != -1] # 27 additional\n",
    "df = df[df['Year Founded'] != -1] # 1,053 additional\n",
    "df = df[df['Est Yearly Revenue'] != 'Unknown / Non-Applicable'] # 1,430 additional\n",
    "df = df[df['Est Yearly Revenue'] != -1] # 1,430 additional"
   ]
  },
  {
   "cell_type": "code",
   "execution_count": 123,
   "id": "0cf85158-1c29-49fd-9bd0-bf4d15a8dcd4",
   "metadata": {},
   "outputs": [
    {
     "data": {
      "text/plain": [
       "Company Name              3829\n",
       "Global Size               3829\n",
       "Description               3829\n",
       "Company Rating            3829\n",
       "Company Ownership Type    3829\n",
       "Year Founded              3829\n",
       "Est Yearly Revenue        3829\n",
       "dtype: int64"
      ]
     },
     "execution_count": 123,
     "metadata": {},
     "output_type": "execute_result"
    }
   ],
   "source": [
    "# Print count of records in each field\n",
    "df.count()"
   ]
  },
  {
   "cell_type": "code",
   "execution_count": 131,
   "id": "3cd11ef8-509e-4493-a4f1-168e5be3e60a",
   "metadata": {},
   "outputs": [],
   "source": [
    "# Define a new data frame for Data Exploration Task\n",
    "df_col = df[['Company Rating','Global Size','Est Yearly Revenue','Company Ownership Type']]"
   ]
  },
  {
   "cell_type": "code",
   "execution_count": 125,
   "id": "3f52f5b7-9689-43d4-8885-a532f7e11b4e",
   "metadata": {},
   "outputs": [],
   "source": [
    "# Replace values in non-numeric fields with numbers for further Data Exploration tasks\n",
    "\n",
    "# Replace all instances of <value> with <number> in column: 'Global Size'\n",
    "df['Global Size'] = df['Global Size'].str.replace(\"1 to 50 Employees\", \"1\", case=False, regex=False)\n",
    "df['Global Size'] = df['Global Size'].str.replace(\"51 to 200 employees\", \"2\", case=False, regex=False)\n",
    "df['Global Size'] = df['Global Size'].str.replace(\"201 to 500 Employees\", \"3\", case=False, regex=False)\n",
    "df['Global Size'] = df['Global Size'].str.replace(\"501 to 1000 employees\", \"4\", case=False, regex=False)\n",
    "df['Global Size'] = df['Global Size'].str.replace(\"1001 to 5000 employees\", \"5\", case=False, regex=False)\n",
    "df['Global Size'] = df['Global Size'].str.replace(\"5001 to 10000 employees\", \"6\", case=False, regex=False)\n",
    "df['Global Size'] = df['Global Size'].str.replace(\"10000+ employees\", \"7\", case=False, regex=False)\n",
    "# Replace all instances of <value> with <number> in column: 'Company Ownership Type'\n",
    "df['Company Ownership Type'] = df['Company Ownership Type'].str.replace(\"College / University\", \"1\", case=False, regex=False)\n",
    "df['Company Ownership Type'] = df['Company Ownership Type'].str.replace(\"Company - Private\", \"2\", case=False, regex=False)\n",
    "df['Company Ownership Type'] = df['Company Ownership Type'].str.replace(\"Company - Public\", \"3\", case=False, regex=False)\n",
    "df['Company Ownership Type'] = df['Company Ownership Type'].str.replace(\"Contract\", \"4\", case=False, regex=False)\n",
    "df['Company Ownership Type'] = df['Company Ownership Type'].str.replace(\"Franchise\", \"5\", case=False, regex=False)\n",
    "df['Company Ownership Type'] = df['Company Ownership Type'].str.replace(\"Government\", \"6\", case=False, regex=False)\n",
    "df['Company Ownership Type'] = df['Company Ownership Type'].str.replace(\"Hospital\", \"7\", case=False, regex=False)\n",
    "df['Company Ownership Type'] = df['Company Ownership Type'].str.replace(\"Nonprofit Organization\", \"8\", case=False, regex=False)\n",
    "df['Company Ownership Type'] = df['Company Ownership Type'].str.replace(\"Other Organization\", \"9\", case=False, regex=False)\n",
    "df['Company Ownership Type'] = df['Company Ownership Type'].str.replace(\"Private Practice / Firm\", \"10\", case=False, regex=False)\n",
    "df['Company Ownership Type'] = df['Company Ownership Type'].str.replace(\"School / School District\", \"11\", case=False, regex=False)\n",
    "df['Company Ownership Type'] = df['Company Ownership Type'].str.replace(\"Self-employed\", \"12\", case=False, regex=False)\n",
    "df['Company Ownership Type'] = df['Company Ownership Type'].str.replace(\"Subsidiary or Business Segment\", \"13\", case=False, regex=False)\n",
    "# Replace all instances of <value> with <number> in column: 'Est Yearly Revenue'\n",
    "df['Est Yearly Revenue'] = df['Est Yearly Revenue'].str.replace(\"Less than $1 million (USD)\", \"1\", case=False, regex=False)\n",
    "df['Est Yearly Revenue'] = df['Est Yearly Revenue'].str.replace(\"$1 to $5 million (USD)\", \"2\", case=False, regex=False)\n",
    "df['Est Yearly Revenue'] = df['Est Yearly Revenue'].str.replace(\"$5 to $10 million (USD)\", \"3\", case=False, regex=False)\n",
    "df['Est Yearly Revenue'] = df['Est Yearly Revenue'].str.replace(\"$10 to $25 million (USD)\", \"4\", case=False, regex=False)\n",
    "df['Est Yearly Revenue'] = df['Est Yearly Revenue'].str.replace(\"$25 to $50 million (USD)\", \"5\", case=False, regex=False)\n",
    "df['Est Yearly Revenue'] = df['Est Yearly Revenue'].str.replace(\"$50 to $100 million (USD)\", \"6\", case=False, regex=False)\n",
    "df['Est Yearly Revenue'] = df['Est Yearly Revenue'].str.replace(\"$100 to $500 million (USD)\", \"7\", case=False, regex=False)\n",
    "df['Est Yearly Revenue'] = df['Est Yearly Revenue'].str.replace(\"$500 million to $1 billion (USD)\", \"8\", case=False, regex=False)\n",
    "df['Est Yearly Revenue'] = df['Est Yearly Revenue'].str.replace(\"$1 to $2 billion (USD)\", \"9\", case=False, regex=False)\n",
    "df['Est Yearly Revenue'] = df['Est Yearly Revenue'].str.replace(\"$2 to $5 billion (USD)\", \"10\", case=False, regex=False)\n",
    "df['Est Yearly Revenue'] = df['Est Yearly Revenue'].str.replace(\"$5 to $10 billion (USD)\", \"11\", case=False, regex=False)\n",
    "df['Est Yearly Revenue'] = df['Est Yearly Revenue'].str.replace(\"$10+ billion (USD)\", \"12\", case=False, regex=False)"
   ]
  },
  {
   "cell_type": "code",
   "execution_count": 126,
   "id": "31b80976-1617-41af-bdc5-2bbc28172d39",
   "metadata": {},
   "outputs": [],
   "source": [
    "# Convert number values stored as string to numeric for data exploration activities\n",
    "df['Global Size'] = pd.to_numeric(df['Global Size'])\n",
    "df['Company Ownership Type'] = pd.to_numeric(df['Company Ownership Type'])\n",
    "df['Est Yearly Revenue'] = pd.to_numeric(df['Est Yearly Revenue'])"
   ]
  },
  {
   "cell_type": "code",
   "execution_count": 127,
   "id": "23b3fa31-8ae4-48ed-b594-f0e04feaf491",
   "metadata": {},
   "outputs": [],
   "source": [
    "# Calculate the Age of a company by subtracting the Founded in Year from the current year\n",
    "df['Year Founded'] = 2023 - df['Year Founded']\n",
    "\n",
    "# Rename the newly calculated field\n",
    "df.rename(columns={\"Year Founded\": \"Company Age\"}, inplace=True)"
   ]
  },
  {
   "cell_type": "code",
   "execution_count": 128,
   "id": "8beda50e-b0c5-4f91-ac9b-dd2c5e3ac41e",
   "metadata": {},
   "outputs": [
    {
     "name": "stdout",
     "output_type": "stream",
     "text": [
      "[7 4 3 5 2 6 1]\n",
      "[ 2  3  8 13  1 12  7  4  9  6 10 11  5]\n",
      "[12 10  3  7  5  6  9 11  4  8  2  1]\n",
      "[173 171 112 139  19 126  16 160 165 108  14  13  23  86 130  27  61  18\n",
      " 117  15 127 211 159  51  31  52  25 184 224 333  29  24 152  17 161  37\n",
      "  11 143 172  33  26  21  54  34  39 167  38  66 158  40  28  44 187 148\n",
      "  55  20 135 101  22 107 205  56 104  45  62   6  75   7  57  41  10 182\n",
      "  91 116  12   4  30   8  46 111   3  78  94  47  43  73 110 109  84 129\n",
      "  92   9  70  59 115   5  88  68  53 134  50  65 118  64  72  35 155  36\n",
      " 121  32  96 157 141  49  58 206  77  95  89 249  42 133 170 122 131 137\n",
      " 195 166  74  48 154  80 136  63  67  60 138  71 100  97 168 181  69 124\n",
      " 178 239 177 231 199 191 102 248  82 149  83  76 153  99 190  90 125  98\n",
      " 128 183  87 120  85  79 176  81 114 216 123 119 103 140 144 186 156 242\n",
      " 113 169 162 145 105 132 174 106 147 146 164 142 325 180 151 193 341 238\n",
      "  93 202 163 212 227 229 317 355 236 257 175 217 192]\n"
     ]
    }
   ],
   "source": [
    "# Confirm values have been updated to numeric\n",
    "print(df['Global Size'].unique())\n",
    "print(df['Company Ownership Type'].unique())\n",
    "print(df['Est Yearly Revenue'].unique())\n",
    "print(df['Company Age'].unique())"
   ]
  },
  {
   "cell_type": "markdown",
   "id": "b8bab34a-701b-4724-ac7b-4e10ff44679f",
   "metadata": {},
   "source": [
    "# Data Exploration"
   ]
  },
  {
   "cell_type": "code",
   "execution_count": 132,
   "id": "604efccc-c436-4fd2-9750-2a7b278e0b2d",
   "metadata": {},
   "outputs": [
    {
     "data": {
      "text/html": [
       "<div>\n",
       "<style scoped>\n",
       "    .dataframe tbody tr th:only-of-type {\n",
       "        vertical-align: middle;\n",
       "    }\n",
       "\n",
       "    .dataframe tbody tr th {\n",
       "        vertical-align: top;\n",
       "    }\n",
       "\n",
       "    .dataframe thead th {\n",
       "        text-align: right;\n",
       "    }\n",
       "</style>\n",
       "<table border=\"1\" class=\"dataframe\">\n",
       "  <thead>\n",
       "    <tr style=\"text-align: right;\">\n",
       "      <th></th>\n",
       "      <th>Company Rating</th>\n",
       "      <th>Global Size</th>\n",
       "      <th>Est Yearly Revenue</th>\n",
       "      <th>Company Ownership Type</th>\n",
       "      <th>Company Age</th>\n",
       "    </tr>\n",
       "  </thead>\n",
       "  <tbody>\n",
       "    <tr>\n",
       "      <th>Company Rating</th>\n",
       "      <td>1.000000</td>\n",
       "      <td>-0.261028</td>\n",
       "      <td>-0.231441</td>\n",
       "      <td>-0.141168</td>\n",
       "      <td>-0.119914</td>\n",
       "    </tr>\n",
       "    <tr>\n",
       "      <th>Global Size</th>\n",
       "      <td>-0.261028</td>\n",
       "      <td>1.000000</td>\n",
       "      <td>0.840805</td>\n",
       "      <td>0.179708</td>\n",
       "      <td>0.466078</td>\n",
       "    </tr>\n",
       "    <tr>\n",
       "      <th>Est Yearly Revenue</th>\n",
       "      <td>-0.231441</td>\n",
       "      <td>0.840805</td>\n",
       "      <td>1.000000</td>\n",
       "      <td>0.144819</td>\n",
       "      <td>0.443217</td>\n",
       "    </tr>\n",
       "    <tr>\n",
       "      <th>Company Ownership Type</th>\n",
       "      <td>-0.141168</td>\n",
       "      <td>0.179708</td>\n",
       "      <td>0.144819</td>\n",
       "      <td>1.000000</td>\n",
       "      <td>0.164166</td>\n",
       "    </tr>\n",
       "    <tr>\n",
       "      <th>Company Age</th>\n",
       "      <td>-0.119914</td>\n",
       "      <td>0.466078</td>\n",
       "      <td>0.443217</td>\n",
       "      <td>0.164166</td>\n",
       "      <td>1.000000</td>\n",
       "    </tr>\n",
       "  </tbody>\n",
       "</table>\n",
       "</div>"
      ],
      "text/plain": [
       "                        Company Rating  Global Size  Est Yearly Revenue  \\\n",
       "Company Rating                1.000000    -0.261028           -0.231441   \n",
       "Global Size                  -0.261028     1.000000            0.840805   \n",
       "Est Yearly Revenue           -0.231441     0.840805            1.000000   \n",
       "Company Ownership Type       -0.141168     0.179708            0.144819   \n",
       "Company Age                  -0.119914     0.466078            0.443217   \n",
       "\n",
       "                        Company Ownership Type  Company Age  \n",
       "Company Rating                       -0.141168    -0.119914  \n",
       "Global Size                           0.179708     0.466078  \n",
       "Est Yearly Revenue                    0.144819     0.443217  \n",
       "Company Ownership Type                1.000000     0.164166  \n",
       "Company Age                           0.164166     1.000000  "
      ]
     },
     "execution_count": 132,
     "metadata": {},
     "output_type": "execute_result"
    }
   ],
   "source": [
    "# Display new field correlation\n",
    "df[['Company Rating','Global Size','Est Yearly Revenue','Company Ownership Type','Company Age']].corr()"
   ]
  },
  {
   "cell_type": "code",
   "execution_count": 133,
   "id": "38141064-ce11-4821-855b-152fa2f01227",
   "metadata": {},
   "outputs": [
    {
     "name": "stdout",
     "output_type": "stream",
     "text": [
      "Visualization for Company Rating: Total = 36\n"
     ]
    },
    {
     "data": {
      "image/png": "[encoded data removed]",
      "text/plain": [
       "<Figure size 640x480 with 1 Axes>"
      ]
     },
     "metadata": {},
     "output_type": "display_data"
    },
    {
     "name": "stdout",
     "output_type": "stream",
     "text": [
      "Visualization for Global Size: Total = 7\n"
     ]
    },
    {
     "data": {
      "image/png": "[encoded data removed]",
      "text/plain": [
       "<Figure size 640x480 with 1 Axes>"
      ]
     },
     "metadata": {},
     "output_type": "display_data"
    },
    {
     "name": "stdout",
     "output_type": "stream",
     "text": [
      "Visualization for Est Yearly Revenue: Total = 12\n"
     ]
    },
    {
     "data": {
      "image/png": "[encoded data removed]",
      "text/plain": [
       "<Figure size 640x480 with 1 Axes>"
      ]
     },
     "metadata": {},
     "output_type": "display_data"
    },
    {
     "name": "stdout",
     "output_type": "stream",
     "text": [
      "Visualization for Company Ownership Type: Total = 13\n"
     ]
    },
    {
     "data": {
      "image/png": "[encoded data removed]",
      "text/plain": [
       "<Figure size 640x480 with 1 Axes>"
      ]
     },
     "metadata": {},
     "output_type": "display_data"
    }
   ],
   "source": [
    "# NEED TO FIGURE OUT HOW TO LOCK df_col IN\n",
    "# Charts of column values and counts\n",
    "for i in df_col.columns:\n",
    "    col_num = df_col[i].value_counts()\n",
    "    #df_col.sort_values([i])\n",
    "    print(\"Visualization for %s: Total = %d\" % (i, len(col_num)))\n",
    "    #print(col_num)\n",
    "    chart = sns.barplot(x=col_num.index, y=col_num, data=df)\n",
    "    chart.set_xticklabels(chart.get_xticklabels(), rotation=90)\n",
    "    plt.show()"
   ]
  },
  {
   "cell_type": "code",
   "execution_count": 136,
   "id": "d2dc0ce4-298a-484e-b9aa-423997c8946d",
   "metadata": {},
   "outputs": [
    {
     "data": {
      "image/png": "[encoded data removed]",
      "text/plain": [
       "<Figure size 640x480 with 1 Axes>"
      ]
     },
     "metadata": {},
     "output_type": "display_data"
    }
   ],
   "source": [
    "# chart of Company Age\n",
    "col_num = df['Company Age'].value_counts()\n",
    "chart = sns.barplot(x=col_num.index, y=col_num, data=df)\n",
    "chart.set_xticklabels(chart.get_xticklabels(), rotation=90)\n",
    "plt.show()"
   ]
  },
  {
   "cell_type": "code",
   "execution_count": 103,
   "id": "c91cf975-2332-43db-b540-36a109bc183d",
   "metadata": {},
   "outputs": [
    {
     "data": {
      "text/html": [
       "<div>\n",
       "<style scoped>\n",
       "    .dataframe tbody tr th:only-of-type {\n",
       "        vertical-align: middle;\n",
       "    }\n",
       "\n",
       "    .dataframe tbody tr th {\n",
       "        vertical-align: top;\n",
       "    }\n",
       "\n",
       "    .dataframe thead th {\n",
       "        text-align: right;\n",
       "    }\n",
       "</style>\n",
       "<table border=\"1\" class=\"dataframe\">\n",
       "  <thead>\n",
       "    <tr style=\"text-align: right;\">\n",
       "      <th></th>\n",
       "      <th>Global Size</th>\n",
       "      <th>Company Rating</th>\n",
       "      <th>Company Ownership Type</th>\n",
       "      <th>Company Age</th>\n",
       "      <th>Est Yearly Revenue</th>\n",
       "    </tr>\n",
       "  </thead>\n",
       "  <tbody>\n",
       "    <tr>\n",
       "      <th>count</th>\n",
       "      <td>3829.000000</td>\n",
       "      <td>3829.000000</td>\n",
       "      <td>3829.000000</td>\n",
       "      <td>3829.000000</td>\n",
       "      <td>3829.000000</td>\n",
       "    </tr>\n",
       "    <tr>\n",
       "      <th>mean</th>\n",
       "      <td>4.366414</td>\n",
       "      <td>3.630008</td>\n",
       "      <td>3.410290</td>\n",
       "      <td>48.421781</td>\n",
       "      <td>7.209976</td>\n",
       "    </tr>\n",
       "    <tr>\n",
       "      <th>std</th>\n",
       "      <td>1.907947</td>\n",
       "      <td>0.574839</td>\n",
       "      <td>2.812424</td>\n",
       "      <td>44.024572</td>\n",
       "      <td>2.921615</td>\n",
       "    </tr>\n",
       "    <tr>\n",
       "      <th>min</th>\n",
       "      <td>1.000000</td>\n",
       "      <td>1.000000</td>\n",
       "      <td>1.000000</td>\n",
       "      <td>3.000000</td>\n",
       "      <td>1.000000</td>\n",
       "    </tr>\n",
       "    <tr>\n",
       "      <th>25%</th>\n",
       "      <td>3.000000</td>\n",
       "      <td>3.300000</td>\n",
       "      <td>2.000000</td>\n",
       "      <td>21.000000</td>\n",
       "      <td>5.000000</td>\n",
       "    </tr>\n",
       "    <tr>\n",
       "      <th>50%</th>\n",
       "      <td>5.000000</td>\n",
       "      <td>3.600000</td>\n",
       "      <td>2.000000</td>\n",
       "      <td>31.000000</td>\n",
       "      <td>7.000000</td>\n",
       "    </tr>\n",
       "    <tr>\n",
       "      <th>75%</th>\n",
       "      <td>6.000000</td>\n",
       "      <td>4.000000</td>\n",
       "      <td>3.000000</td>\n",
       "      <td>59.000000</td>\n",
       "      <td>10.000000</td>\n",
       "    </tr>\n",
       "    <tr>\n",
       "      <th>max</th>\n",
       "      <td>7.000000</td>\n",
       "      <td>5.000000</td>\n",
       "      <td>13.000000</td>\n",
       "      <td>355.000000</td>\n",
       "      <td>12.000000</td>\n",
       "    </tr>\n",
       "  </tbody>\n",
       "</table>\n",
       "</div>"
      ],
      "text/plain": [
       "       Global Size  Company Rating  Company Ownership Type  Company Age  \\\n",
       "count  3829.000000     3829.000000             3829.000000  3829.000000   \n",
       "mean      4.366414        3.630008                3.410290    48.421781   \n",
       "std       1.907947        0.574839                2.812424    44.024572   \n",
       "min       1.000000        1.000000                1.000000     3.000000   \n",
       "25%       3.000000        3.300000                2.000000    21.000000   \n",
       "50%       5.000000        3.600000                2.000000    31.000000   \n",
       "75%       6.000000        4.000000                3.000000    59.000000   \n",
       "max       7.000000        5.000000               13.000000   355.000000   \n",
       "\n",
       "       Est Yearly Revenue  \n",
       "count         3829.000000  \n",
       "mean             7.209976  \n",
       "std              2.921615  \n",
       "min              1.000000  \n",
       "25%              5.000000  \n",
       "50%              7.000000  \n",
       "75%             10.000000  \n",
       "max             12.000000  "
      ]
     },
     "execution_count": 103,
     "metadata": {},
     "output_type": "execute_result"
    }
   ],
   "source": [
    "# Describe Data \n",
    "df.describe()"
   ]
  },
  {
   "cell_type": "code",
   "execution_count": null,
   "id": "a8093b34-7233-4906-8581-366e026dff22",
   "metadata": {},
   "outputs": [],
   "source": [
    "import seaborn as sns\n",
    "cmap = sns.diverging_palette(220, 10, as_cmap = True)\n",
    "sns.heatmap(df[['Company Rating','Global Size','Est Yearly Revenue','Company Ownership Type','Company Age']].corr(), vmax=.3, center=0, cmap=cmap,\n",
    "            square=True, linewidths=.5, cbar_kws={\"shrink\": .5})"
   ]
  },
  {
   "cell_type": "code",
   "execution_count": null,
   "id": "3e835eeb-9fd7-4675-9184-e15a5ba90e4e",
   "metadata": {},
   "outputs": [],
   "source": [
    "df.boxplot(column = 'Company Age')"
   ]
  },
  {
   "cell_type": "code",
   "execution_count": null,
   "id": "21ed2f13-2f92-4423-85a7-25c976370564",
   "metadata": {},
   "outputs": [],
   "source": [
    "df.boxplot(column = 'Company Rating')"
   ]
  }
 ],
 "metadata": {
  "kernelspec": {
   "display_name": "Python 3 (ipykernel)",
   "language": "python",
   "name": "python3"
  },
  "language_info": {
   "codemirror_mode": {
    "name": "ipython",
    "version": 3
   },
   "file_extension": ".py",
   "mimetype": "text/x-python",
   "name": "python",
   "nbconvert_exporter": "python",
   "pygments_lexer": "ipython3",
   "version": "3.10.9"
  }
 },
 "nbformat": 4,
 "nbformat_minor": 5
}
