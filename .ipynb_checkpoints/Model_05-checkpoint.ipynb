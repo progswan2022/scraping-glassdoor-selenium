{
 "cells": [
  {
   "cell_type": "code",
   "execution_count": 6,
   "id": "0b099712-1a85-48d5-a4a2-d00956810e94",
   "metadata": {},
   "outputs": [],
   "source": [
    "import pandas as pd \n",
    "import matplotlib.pyplot as plt \n",
    "import numpy as np \n",
    "\n",
    "df = pd.read_csv('Company_Rating_Data.csv')"
   ]
  },
  {
   "cell_type": "code",
   "execution_count": 14,
   "id": "ac467546-87fd-469e-ac14-b8d33c955886",
   "metadata": {},
   "outputs": [
    {
     "data": {
      "text/plain": [
       "Index(['Company Name', 'Number of Reviews', 'Average Salary', 'Job Openings',\n",
       "       'Location Website', 'Global Size', 'Industry', 'Description',\n",
       "       'Company Rating', 'Company Webpage', 'Headquarters', 'Global Size 2',\n",
       "       'Company Location', 'Company Ownership Type', 'Year Founded',\n",
       "       'Est Yearly Revenue', 'Industry 2'],\n",
       "      dtype='object')"
      ]
     },
     "execution_count": 14,
     "metadata": {},
     "output_type": "execute_result"
    }
   ],
   "source": [
    "# choose relevant columns \n",
    "df.columns"
   ]
  },
  {
   "cell_type": "code",
   "execution_count": 7,
   "id": "fa080f14-bd63-4ee9-a7e7-0a396c220a84",
   "metadata": {},
   "outputs": [],
   "source": [
    "# Check for and remove records with default values ('Unknown', -1)\n",
    "df = df[df['Global Size'] != -1] # 883 additional\n",
    "df = df[df['Global Size'] != 'Unknown']\n",
    "df = df[df['Company Rating'] != -1] # 144 additional\n",
    "df = df[df['Company Ownership Type'] != 'Unknown'] # 27 additional/\n",
    "df = df[df['Company Ownership Type'] != -1] # 27 additional\n",
    "df = df[df['Year Founded'] != -1] # 1,053 additional\n",
    "df = df[df['Est Yearly Revenue'] != 'Unknown / Non-Applicable'] # 1,430 additional\n",
    "df = df[df['Est Yearly Revenue'] != -1] # 1,430 additional"
   ]
  },
  {
   "cell_type": "code",
   "execution_count": 3,
   "id": "39729472-b1d0-4b2c-ad07-b5fe1a36283d",
   "metadata": {},
   "outputs": [],
   "source": [
    "# Calculate the Age of a company by subtracting the Founded in Year from the current year\n",
    "df['Year Founded'] = 2023 - df['Year Founded']\n",
    "\n",
    "# Rename the newly calculated field\n",
    "df.rename(columns={\"Year Founded\": \"Company Age\"}, inplace=True)"
   ]
  },
  {
   "cell_type": "code",
   "execution_count": 5,
   "id": "df05200a-6c39-426a-bd84-ad5f90ede4a1",
   "metadata": {},
   "outputs": [
    {
     "data": {
      "text/plain": [
       "Company Name              3829\n",
       "Number of Reviews         3829\n",
       "Average Salary            3829\n",
       "Job Openings              3829\n",
       "Location Website          3829\n",
       "Global Size               3829\n",
       "Industry                  3829\n",
       "Description               3829\n",
       "Company Rating            3829\n",
       "Company Webpage           3829\n",
       "Headquarters              3829\n",
       "Global Size 2             3829\n",
       "Company Location          3829\n",
       "Company Ownership Type    3829\n",
       "Company Age               3829\n",
       "Est Yearly Revenue        3829\n",
       "Industry 2                3829\n",
       "dtype: int64"
      ]
     },
     "execution_count": 5,
     "metadata": {},
     "output_type": "execute_result"
    }
   ],
   "source": [
    "# Print count of records in each field\n",
    "df.count()"
   ]
  },
  {
   "cell_type": "code",
   "execution_count": 8,
   "id": "f5674b7b-947f-4f57-8ae2-0237e32f48df",
   "metadata": {},
   "outputs": [],
   "source": [
    "df_model = df[['Company Rating','Global Size','Company Ownership Type','Est Yearly Revenue','Year Founded']]"
   ]
  },
  {
   "cell_type": "code",
   "execution_count": 9,
   "id": "ad8cce63-b1df-40cf-90d3-913454f3359c",
   "metadata": {},
   "outputs": [],
   "source": [
    "# get dummy data \n",
    "df_dum = pd.get_dummies(df_model)"
   ]
  },
  {
   "cell_type": "code",
   "execution_count": 10,
   "id": "b6218f04-ff0a-4ef7-b695-a9fb4ca44c67",
   "metadata": {},
   "outputs": [],
   "source": [
    "# train test split \n",
    "from sklearn.model_selection import train_test_split\n",
    "\n",
    "X = df_dum.drop('Company Rating', axis =1)\n",
    "y = df_dum['Company Rating'].values\n",
    "\n",
    "X_train, X_test, y_train, y_test = train_test_split(X, y, test_size=0.2, random_state=42)"
   ]
  },
  {
   "cell_type": "code",
   "execution_count": 11,
   "id": "c3555408-0556-4f46-9f7c-42812700bf22",
   "metadata": {},
   "outputs": [
    {
     "data": {
      "text/html": [
       "<table class=\"simpletable\">\n",
       "<caption>OLS Regression Results</caption>\n",
       "<tr>\n",
       "  <th>Dep. Variable:</th>            <td>y</td>        <th>  R-squared:         </th> <td>   0.131</td>\n",
       "</tr>\n",
       "<tr>\n",
       "  <th>Model:</th>                   <td>OLS</td>       <th>  Adj. R-squared:    </th> <td>   0.124</td>\n",
       "</tr>\n",
       "<tr>\n",
       "  <th>Method:</th>             <td>Least Squares</td>  <th>  F-statistic:       </th> <td>   18.44</td>\n",
       "</tr>\n",
       "<tr>\n",
       "  <th>Date:</th>             <td>Mon, 20 Nov 2023</td> <th>  Prob (F-statistic):</th> <td>4.02e-93</td>\n",
       "</tr>\n",
       "<tr>\n",
       "  <th>Time:</th>                 <td>20:47:17</td>     <th>  Log-Likelihood:    </th> <td> -3044.1</td>\n",
       "</tr>\n",
       "<tr>\n",
       "  <th>No. Observations:</th>      <td>  3829</td>      <th>  AIC:               </th> <td>   6152.</td>\n",
       "</tr>\n",
       "<tr>\n",
       "  <th>Df Residuals:</th>          <td>  3797</td>      <th>  BIC:               </th> <td>   6352.</td>\n",
       "</tr>\n",
       "<tr>\n",
       "  <th>Df Model:</th>              <td>    31</td>      <th>                     </th>     <td> </td>   \n",
       "</tr>\n",
       "<tr>\n",
       "  <th>Covariance Type:</th>      <td>nonrobust</td>    <th>                     </th>     <td> </td>   \n",
       "</tr>\n",
       "</table>\n",
       "<table class=\"simpletable\">\n",
       "<tr>\n",
       "                            <td></td>                               <th>coef</th>     <th>std err</th>      <th>t</th>      <th>P>|t|</th>  <th>[0.025</th>    <th>0.975]</th>  \n",
       "</tr>\n",
       "<tr>\n",
       "  <th>const</th>                                                 <td>    2.2223</td> <td>    0.367</td> <td>    6.063</td> <td> 0.000</td> <td>    1.504</td> <td>    2.941</td>\n",
       "</tr>\n",
       "<tr>\n",
       "  <th>Year Founded</th>                                          <td>    0.0004</td> <td>    0.000</td> <td>    1.550</td> <td> 0.121</td> <td>-9.81e-05</td> <td>    0.001</td>\n",
       "</tr>\n",
       "<tr>\n",
       "  <th>Global Size_1 to 50 employees</th>                         <td>    0.6461</td> <td>    0.076</td> <td>    8.490</td> <td> 0.000</td> <td>    0.497</td> <td>    0.795</td>\n",
       "</tr>\n",
       "<tr>\n",
       "  <th>Global Size_10000+ Employees</th>                          <td>    0.4619</td> <td>    0.279</td> <td>    1.655</td> <td> 0.098</td> <td>   -0.085</td> <td>    1.009</td>\n",
       "</tr>\n",
       "<tr>\n",
       "  <th>Global Size_10000+ employees</th>                          <td>    0.1693</td> <td>    0.063</td> <td>    2.699</td> <td> 0.007</td> <td>    0.046</td> <td>    0.292</td>\n",
       "</tr>\n",
       "<tr>\n",
       "  <th>Global Size_1001 to 5000 employees</th>                    <td>    0.0876</td> <td>    0.063</td> <td>    1.397</td> <td> 0.163</td> <td>   -0.035</td> <td>    0.210</td>\n",
       "</tr>\n",
       "<tr>\n",
       "  <th>Global Size_201 to 500 employees</th>                      <td>    0.1997</td> <td>    0.067</td> <td>    3.003</td> <td> 0.003</td> <td>    0.069</td> <td>    0.330</td>\n",
       "</tr>\n",
       "<tr>\n",
       "  <th>Global Size_5001 to 10000 employees</th>                   <td>    0.1614</td> <td>    0.066</td> <td>    2.458</td> <td> 0.014</td> <td>    0.033</td> <td>    0.290</td>\n",
       "</tr>\n",
       "<tr>\n",
       "  <th>Global Size_501 to 1000 employees</th>                     <td>    0.1173</td> <td>    0.067</td> <td>    1.760</td> <td> 0.078</td> <td>   -0.013</td> <td>    0.248</td>\n",
       "</tr>\n",
       "<tr>\n",
       "  <th>Global Size_51 to 200 employees</th>                       <td>    0.3790</td> <td>    0.068</td> <td>    5.581</td> <td> 0.000</td> <td>    0.246</td> <td>    0.512</td>\n",
       "</tr>\n",
       "<tr>\n",
       "  <th>Company Ownership Type_College / University</th>           <td>    0.6689</td> <td>    0.081</td> <td>    8.290</td> <td> 0.000</td> <td>    0.511</td> <td>    0.827</td>\n",
       "</tr>\n",
       "<tr>\n",
       "  <th>Company Ownership Type_Company - Private</th>              <td>    0.3350</td> <td>    0.062</td> <td>    5.377</td> <td> 0.000</td> <td>    0.213</td> <td>    0.457</td>\n",
       "</tr>\n",
       "<tr>\n",
       "  <th>Company Ownership Type_Company - Public</th>               <td>    0.2145</td> <td>    0.064</td> <td>    3.352</td> <td> 0.001</td> <td>    0.089</td> <td>    0.340</td>\n",
       "</tr>\n",
       "<tr>\n",
       "  <th>Company Ownership Type_Contract</th>                       <td>    0.4443</td> <td>    0.187</td> <td>    2.376</td> <td> 0.018</td> <td>    0.078</td> <td>    0.811</td>\n",
       "</tr>\n",
       "<tr>\n",
       "  <th>Company Ownership Type_Franchise</th>                      <td>    0.0520</td> <td>    0.294</td> <td>    0.177</td> <td> 0.860</td> <td>   -0.524</td> <td>    0.628</td>\n",
       "</tr>\n",
       "<tr>\n",
       "  <th>Company Ownership Type_Government</th>                     <td>    0.1216</td> <td>    0.095</td> <td>    1.285</td> <td> 0.199</td> <td>   -0.064</td> <td>    0.307</td>\n",
       "</tr>\n",
       "<tr>\n",
       "  <th>Company Ownership Type_Hospital</th>                       <td>    0.3439</td> <td>    0.109</td> <td>    3.162</td> <td> 0.002</td> <td>    0.131</td> <td>    0.557</td>\n",
       "</tr>\n",
       "<tr>\n",
       "  <th>Company Ownership Type_Nonprofit Organization</th>         <td>    0.1538</td> <td>    0.066</td> <td>    2.336</td> <td> 0.020</td> <td>    0.025</td> <td>    0.283</td>\n",
       "</tr>\n",
       "<tr>\n",
       "  <th>Company Ownership Type_Other Organization</th>             <td>   -0.0075</td> <td>    0.141</td> <td>   -0.054</td> <td> 0.957</td> <td>   -0.283</td> <td>    0.268</td>\n",
       "</tr>\n",
       "<tr>\n",
       "  <th>Company Ownership Type_Private Practice / Firm</th>        <td>    0.4651</td> <td>    0.117</td> <td>    3.965</td> <td> 0.000</td> <td>    0.235</td> <td>    0.695</td>\n",
       "</tr>\n",
       "<tr>\n",
       "  <th>Company Ownership Type_School / School District</th>       <td>    0.2194</td> <td>    0.151</td> <td>    1.457</td> <td> 0.145</td> <td>   -0.076</td> <td>    0.515</td>\n",
       "</tr>\n",
       "<tr>\n",
       "  <th>Company Ownership Type_Self-employed</th>                  <td>   -0.9665</td> <td>    0.503</td> <td>   -1.921</td> <td> 0.055</td> <td>   -1.953</td> <td>    0.020</td>\n",
       "</tr>\n",
       "<tr>\n",
       "  <th>Company Ownership Type_Subsidiary or Business Segment</th> <td>    0.1781</td> <td>    0.071</td> <td>    2.510</td> <td> 0.012</td> <td>    0.039</td> <td>    0.317</td>\n",
       "</tr>\n",
       "<tr>\n",
       "  <th>Est Yearly Revenue_$1 to $2 billion (USD)</th>             <td>    0.1587</td> <td>    0.043</td> <td>    3.652</td> <td> 0.000</td> <td>    0.073</td> <td>    0.244</td>\n",
       "</tr>\n",
       "<tr>\n",
       "  <th>Est Yearly Revenue_$1 to $5 million (USD)</th>             <td>    0.1530</td> <td>    0.057</td> <td>    2.678</td> <td> 0.007</td> <td>    0.041</td> <td>    0.265</td>\n",
       "</tr>\n",
       "<tr>\n",
       "  <th>Est Yearly Revenue_$10 to $25 million (USD)</th>           <td>    0.2164</td> <td>    0.046</td> <td>    4.710</td> <td> 0.000</td> <td>    0.126</td> <td>    0.307</td>\n",
       "</tr>\n",
       "<tr>\n",
       "  <th>Est Yearly Revenue_$10+ billion (USD)</th>                 <td>    0.2343</td> <td>    0.045</td> <td>    5.197</td> <td> 0.000</td> <td>    0.146</td> <td>    0.323</td>\n",
       "</tr>\n",
       "<tr>\n",
       "  <th>Est Yearly Revenue_$100 to $500 million (USD)</th>         <td>    0.1819</td> <td>    0.040</td> <td>    4.524</td> <td> 0.000</td> <td>    0.103</td> <td>    0.261</td>\n",
       "</tr>\n",
       "<tr>\n",
       "  <th>Est Yearly Revenue_$2 to $5 billion (USD)</th>             <td>    0.1212</td> <td>    0.044</td> <td>    2.738</td> <td> 0.006</td> <td>    0.034</td> <td>    0.208</td>\n",
       "</tr>\n",
       "<tr>\n",
       "  <th>Est Yearly Revenue_$25 to $50 million (USD)</th>           <td>    0.1838</td> <td>    0.046</td> <td>    4.024</td> <td> 0.000</td> <td>    0.094</td> <td>    0.273</td>\n",
       "</tr>\n",
       "<tr>\n",
       "  <th>Est Yearly Revenue_$5 to $10 billion (USD)</th>            <td>    0.1255</td> <td>    0.051</td> <td>    2.485</td> <td> 0.013</td> <td>    0.026</td> <td>    0.225</td>\n",
       "</tr>\n",
       "<tr>\n",
       "  <th>Est Yearly Revenue_$5 to $10 million (USD)</th>            <td>    0.2675</td> <td>    0.054</td> <td>    4.911</td> <td> 0.000</td> <td>    0.161</td> <td>    0.374</td>\n",
       "</tr>\n",
       "<tr>\n",
       "  <th>Est Yearly Revenue_$50 to $100 million (USD)</th>          <td>    0.1685</td> <td>    0.045</td> <td>    3.771</td> <td> 0.000</td> <td>    0.081</td> <td>    0.256</td>\n",
       "</tr>\n",
       "<tr>\n",
       "  <th>Est Yearly Revenue_$500 million to $1 billion (USD)</th>   <td>    0.1667</td> <td>    0.045</td> <td>    3.705</td> <td> 0.000</td> <td>    0.078</td> <td>    0.255</td>\n",
       "</tr>\n",
       "<tr>\n",
       "  <th>Est Yearly Revenue_Less than $1 million (USD)</th>         <td>    0.2447</td> <td>    0.087</td> <td>    2.807</td> <td> 0.005</td> <td>    0.074</td> <td>    0.416</td>\n",
       "</tr>\n",
       "</table>\n",
       "<table class=\"simpletable\">\n",
       "<tr>\n",
       "  <th>Omnibus:</th>       <td>128.411</td> <th>  Durbin-Watson:     </th> <td>   1.958</td>\n",
       "</tr>\n",
       "<tr>\n",
       "  <th>Prob(Omnibus):</th> <td> 0.000</td>  <th>  Jarque-Bera (JB):  </th> <td> 168.928</td>\n",
       "</tr>\n",
       "<tr>\n",
       "  <th>Skew:</th>          <td>-0.368</td>  <th>  Prob(JB):          </th> <td>2.08e-37</td>\n",
       "</tr>\n",
       "<tr>\n",
       "  <th>Kurtosis:</th>      <td> 3.720</td>  <th>  Cond. No.          </th> <td>1.39e+16</td>\n",
       "</tr>\n",
       "</table><br/><br/>Notes:<br/>[1] Standard Errors assume that the covariance matrix of the errors is correctly specified.<br/>[2] The smallest eigenvalue is 7.75e-23. This might indicate that there are<br/>strong multicollinearity problems or that the design matrix is singular."
      ],
      "text/latex": [
       "\\begin{center}\n",
       "\\begin{tabular}{lclc}\n",
       "\\toprule\n",
       "\\textbf{Dep. Variable:}                                         &        y         & \\textbf{  R-squared:         } &     0.131   \\\\\n",
       "\\textbf{Model:}                                                 &       OLS        & \\textbf{  Adj. R-squared:    } &     0.124   \\\\\n",
       "\\textbf{Method:}                                                &  Least Squares   & \\textbf{  F-statistic:       } &     18.44   \\\\\n",
       "\\textbf{Date:}                                                  & Mon, 20 Nov 2023 & \\textbf{  Prob (F-statistic):} &  4.02e-93   \\\\\n",
       "\\textbf{Time:}                                                  &     20:47:17     & \\textbf{  Log-Likelihood:    } &   -3044.1   \\\\\n",
       "\\textbf{No. Observations:}                                      &        3829      & \\textbf{  AIC:               } &     6152.   \\\\\n",
       "\\textbf{Df Residuals:}                                          &        3797      & \\textbf{  BIC:               } &     6352.   \\\\\n",
       "\\textbf{Df Model:}                                              &          31      & \\textbf{                     } &             \\\\\n",
       "\\textbf{Covariance Type:}                                       &    nonrobust     & \\textbf{                     } &             \\\\\n",
       "\\bottomrule\n",
       "\\end{tabular}\n",
       "\\begin{tabular}{lcccccc}\n",
       "                                                                & \\textbf{coef} & \\textbf{std err} & \\textbf{t} & \\textbf{P$> |$t$|$} & \\textbf{[0.025} & \\textbf{0.975]}  \\\\\n",
       "\\midrule\n",
       "\\textbf{const}                                                  &       2.2223  &        0.367     &     6.063  &         0.000        &        1.504    &        2.941     \\\\\n",
       "\\textbf{Year Founded}                                           &       0.0004  &        0.000     &     1.550  &         0.121        &    -9.81e-05    &        0.001     \\\\\n",
       "\\textbf{Global Size\\_1 to 50 employees}                         &       0.6461  &        0.076     &     8.490  &         0.000        &        0.497    &        0.795     \\\\\n",
       "\\textbf{Global Size\\_10000+ Employees}                          &       0.4619  &        0.279     &     1.655  &         0.098        &       -0.085    &        1.009     \\\\\n",
       "\\textbf{Global Size\\_10000+ employees}                          &       0.1693  &        0.063     &     2.699  &         0.007        &        0.046    &        0.292     \\\\\n",
       "\\textbf{Global Size\\_1001 to 5000 employees}                    &       0.0876  &        0.063     &     1.397  &         0.163        &       -0.035    &        0.210     \\\\\n",
       "\\textbf{Global Size\\_201 to 500 employees}                      &       0.1997  &        0.067     &     3.003  &         0.003        &        0.069    &        0.330     \\\\\n",
       "\\textbf{Global Size\\_5001 to 10000 employees}                   &       0.1614  &        0.066     &     2.458  &         0.014        &        0.033    &        0.290     \\\\\n",
       "\\textbf{Global Size\\_501 to 1000 employees}                     &       0.1173  &        0.067     &     1.760  &         0.078        &       -0.013    &        0.248     \\\\\n",
       "\\textbf{Global Size\\_51 to 200 employees}                       &       0.3790  &        0.068     &     5.581  &         0.000        &        0.246    &        0.512     \\\\\n",
       "\\textbf{Company Ownership Type\\_College / University}           &       0.6689  &        0.081     &     8.290  &         0.000        &        0.511    &        0.827     \\\\\n",
       "\\textbf{Company Ownership Type\\_Company - Private}              &       0.3350  &        0.062     &     5.377  &         0.000        &        0.213    &        0.457     \\\\\n",
       "\\textbf{Company Ownership Type\\_Company - Public}               &       0.2145  &        0.064     &     3.352  &         0.001        &        0.089    &        0.340     \\\\\n",
       "\\textbf{Company Ownership Type\\_Contract}                       &       0.4443  &        0.187     &     2.376  &         0.018        &        0.078    &        0.811     \\\\\n",
       "\\textbf{Company Ownership Type\\_Franchise}                      &       0.0520  &        0.294     &     0.177  &         0.860        &       -0.524    &        0.628     \\\\\n",
       "\\textbf{Company Ownership Type\\_Government}                     &       0.1216  &        0.095     &     1.285  &         0.199        &       -0.064    &        0.307     \\\\\n",
       "\\textbf{Company Ownership Type\\_Hospital}                       &       0.3439  &        0.109     &     3.162  &         0.002        &        0.131    &        0.557     \\\\\n",
       "\\textbf{Company Ownership Type\\_Nonprofit Organization}         &       0.1538  &        0.066     &     2.336  &         0.020        &        0.025    &        0.283     \\\\\n",
       "\\textbf{Company Ownership Type\\_Other Organization}             &      -0.0075  &        0.141     &    -0.054  &         0.957        &       -0.283    &        0.268     \\\\\n",
       "\\textbf{Company Ownership Type\\_Private Practice / Firm}        &       0.4651  &        0.117     &     3.965  &         0.000        &        0.235    &        0.695     \\\\\n",
       "\\textbf{Company Ownership Type\\_School / School District}       &       0.2194  &        0.151     &     1.457  &         0.145        &       -0.076    &        0.515     \\\\\n",
       "\\textbf{Company Ownership Type\\_Self-employed}                  &      -0.9665  &        0.503     &    -1.921  &         0.055        &       -1.953    &        0.020     \\\\\n",
       "\\textbf{Company Ownership Type\\_Subsidiary or Business Segment} &       0.1781  &        0.071     &     2.510  &         0.012        &        0.039    &        0.317     \\\\\n",
       "\\textbf{Est Yearly Revenue\\_\\$1 to \\$2 billion (USD)}           &       0.1587  &        0.043     &     3.652  &         0.000        &        0.073    &        0.244     \\\\\n",
       "\\textbf{Est Yearly Revenue\\_\\$1 to \\$5 million (USD)}           &       0.1530  &        0.057     &     2.678  &         0.007        &        0.041    &        0.265     \\\\\n",
       "\\textbf{Est Yearly Revenue\\_\\$10 to \\$25 million (USD)}         &       0.2164  &        0.046     &     4.710  &         0.000        &        0.126    &        0.307     \\\\\n",
       "\\textbf{Est Yearly Revenue\\_\\$10+ billion (USD)}                &       0.2343  &        0.045     &     5.197  &         0.000        &        0.146    &        0.323     \\\\\n",
       "\\textbf{Est Yearly Revenue\\_\\$100 to \\$500 million (USD)}       &       0.1819  &        0.040     &     4.524  &         0.000        &        0.103    &        0.261     \\\\\n",
       "\\textbf{Est Yearly Revenue\\_\\$2 to \\$5 billion (USD)}           &       0.1212  &        0.044     &     2.738  &         0.006        &        0.034    &        0.208     \\\\\n",
       "\\textbf{Est Yearly Revenue\\_\\$25 to \\$50 million (USD)}         &       0.1838  &        0.046     &     4.024  &         0.000        &        0.094    &        0.273     \\\\\n",
       "\\textbf{Est Yearly Revenue\\_\\$5 to \\$10 billion (USD)}          &       0.1255  &        0.051     &     2.485  &         0.013        &        0.026    &        0.225     \\\\\n",
       "\\textbf{Est Yearly Revenue\\_\\$5 to \\$10 million (USD)}          &       0.2675  &        0.054     &     4.911  &         0.000        &        0.161    &        0.374     \\\\\n",
       "\\textbf{Est Yearly Revenue\\_\\$50 to \\$100 million (USD)}        &       0.1685  &        0.045     &     3.771  &         0.000        &        0.081    &        0.256     \\\\\n",
       "\\textbf{Est Yearly Revenue\\_\\$500 million to \\$1 billion (USD)} &       0.1667  &        0.045     &     3.705  &         0.000        &        0.078    &        0.255     \\\\\n",
       "\\textbf{Est Yearly Revenue\\_Less than \\$1 million (USD)}        &       0.2447  &        0.087     &     2.807  &         0.005        &        0.074    &        0.416     \\\\\n",
       "\\bottomrule\n",
       "\\end{tabular}\n",
       "\\begin{tabular}{lclc}\n",
       "\\textbf{Omnibus:}       & 128.411 & \\textbf{  Durbin-Watson:     } &    1.958  \\\\\n",
       "\\textbf{Prob(Omnibus):} &   0.000 & \\textbf{  Jarque-Bera (JB):  } &  168.928  \\\\\n",
       "\\textbf{Skew:}          &  -0.368 & \\textbf{  Prob(JB):          } & 2.08e-37  \\\\\n",
       "\\textbf{Kurtosis:}      &   3.720 & \\textbf{  Cond. No.          } & 1.39e+16  \\\\\n",
       "\\bottomrule\n",
       "\\end{tabular}\n",
       "%\\caption{OLS Regression Results}\n",
       "\\end{center}\n",
       "\n",
       "Notes: \\newline\n",
       " [1] Standard Errors assume that the covariance matrix of the errors is correctly specified. \\newline\n",
       " [2] The smallest eigenvalue is 7.75e-23. This might indicate that there are \\newline\n",
       " strong multicollinearity problems or that the design matrix is singular."
      ],
      "text/plain": [
       "<class 'statsmodels.iolib.summary.Summary'>\n",
       "\"\"\"\n",
       "                            OLS Regression Results                            \n",
       "==============================================================================\n",
       "Dep. Variable:                      y   R-squared:                       0.131\n",
       "Model:                            OLS   Adj. R-squared:                  0.124\n",
       "Method:                 Least Squares   F-statistic:                     18.44\n",
       "Date:                Mon, 20 Nov 2023   Prob (F-statistic):           4.02e-93\n",
       "Time:                        20:47:17   Log-Likelihood:                -3044.1\n",
       "No. Observations:                3829   AIC:                             6152.\n",
       "Df Residuals:                    3797   BIC:                             6352.\n",
       "Df Model:                          31                                         \n",
       "Covariance Type:            nonrobust                                         \n",
       "=========================================================================================================================\n",
       "                                                            coef    std err          t      P>|t|      [0.025      0.975]\n",
       "-------------------------------------------------------------------------------------------------------------------------\n",
       "const                                                     2.2223      0.367      6.063      0.000       1.504       2.941\n",
       "Year Founded                                              0.0004      0.000      1.550      0.121   -9.81e-05       0.001\n",
       "Global Size_1 to 50 employees                             0.6461      0.076      8.490      0.000       0.497       0.795\n",
       "Global Size_10000+ Employees                              0.4619      0.279      1.655      0.098      -0.085       1.009\n",
       "Global Size_10000+ employees                              0.1693      0.063      2.699      0.007       0.046       0.292\n",
       "Global Size_1001 to 5000 employees                        0.0876      0.063      1.397      0.163      -0.035       0.210\n",
       "Global Size_201 to 500 employees                          0.1997      0.067      3.003      0.003       0.069       0.330\n",
       "Global Size_5001 to 10000 employees                       0.1614      0.066      2.458      0.014       0.033       0.290\n",
       "Global Size_501 to 1000 employees                         0.1173      0.067      1.760      0.078      -0.013       0.248\n",
       "Global Size_51 to 200 employees                           0.3790      0.068      5.581      0.000       0.246       0.512\n",
       "Company Ownership Type_College / University               0.6689      0.081      8.290      0.000       0.511       0.827\n",
       "Company Ownership Type_Company - Private                  0.3350      0.062      5.377      0.000       0.213       0.457\n",
       "Company Ownership Type_Company - Public                   0.2145      0.064      3.352      0.001       0.089       0.340\n",
       "Company Ownership Type_Contract                           0.4443      0.187      2.376      0.018       0.078       0.811\n",
       "Company Ownership Type_Franchise                          0.0520      0.294      0.177      0.860      -0.524       0.628\n",
       "Company Ownership Type_Government                         0.1216      0.095      1.285      0.199      -0.064       0.307\n",
       "Company Ownership Type_Hospital                           0.3439      0.109      3.162      0.002       0.131       0.557\n",
       "Company Ownership Type_Nonprofit Organization             0.1538      0.066      2.336      0.020       0.025       0.283\n",
       "Company Ownership Type_Other Organization                -0.0075      0.141     -0.054      0.957      -0.283       0.268\n",
       "Company Ownership Type_Private Practice / Firm            0.4651      0.117      3.965      0.000       0.235       0.695\n",
       "Company Ownership Type_School / School District           0.2194      0.151      1.457      0.145      -0.076       0.515\n",
       "Company Ownership Type_Self-employed                     -0.9665      0.503     -1.921      0.055      -1.953       0.020\n",
       "Company Ownership Type_Subsidiary or Business Segment     0.1781      0.071      2.510      0.012       0.039       0.317\n",
       "Est Yearly Revenue_$1 to $2 billion (USD)                 0.1587      0.043      3.652      0.000       0.073       0.244\n",
       "Est Yearly Revenue_$1 to $5 million (USD)                 0.1530      0.057      2.678      0.007       0.041       0.265\n",
       "Est Yearly Revenue_$10 to $25 million (USD)               0.2164      0.046      4.710      0.000       0.126       0.307\n",
       "Est Yearly Revenue_$10+ billion (USD)                     0.2343      0.045      5.197      0.000       0.146       0.323\n",
       "Est Yearly Revenue_$100 to $500 million (USD)             0.1819      0.040      4.524      0.000       0.103       0.261\n",
       "Est Yearly Revenue_$2 to $5 billion (USD)                 0.1212      0.044      2.738      0.006       0.034       0.208\n",
       "Est Yearly Revenue_$25 to $50 million (USD)               0.1838      0.046      4.024      0.000       0.094       0.273\n",
       "Est Yearly Revenue_$5 to $10 billion (USD)                0.1255      0.051      2.485      0.013       0.026       0.225\n",
       "Est Yearly Revenue_$5 to $10 million (USD)                0.2675      0.054      4.911      0.000       0.161       0.374\n",
       "Est Yearly Revenue_$50 to $100 million (USD)              0.1685      0.045      3.771      0.000       0.081       0.256\n",
       "Est Yearly Revenue_$500 million to $1 billion (USD)       0.1667      0.045      3.705      0.000       0.078       0.255\n",
       "Est Yearly Revenue_Less than $1 million (USD)             0.2447      0.087      2.807      0.005       0.074       0.416\n",
       "==============================================================================\n",
       "Omnibus:                      128.411   Durbin-Watson:                   1.958\n",
       "Prob(Omnibus):                  0.000   Jarque-Bera (JB):              168.928\n",
       "Skew:                          -0.368   Prob(JB):                     2.08e-37\n",
       "Kurtosis:                       3.720   Cond. No.                     1.39e+16\n",
       "==============================================================================\n",
       "\n",
       "Notes:\n",
       "[1] Standard Errors assume that the covariance matrix of the errors is correctly specified.\n",
       "[2] The smallest eigenvalue is 7.75e-23. This might indicate that there are\n",
       "strong multicollinearity problems or that the design matrix is singular.\n",
       "\"\"\""
      ]
     },
     "execution_count": 11,
     "metadata": {},
     "output_type": "execute_result"
    }
   ],
   "source": [
    "# multiple linear regression \n",
    "import statsmodels.api as sm\n",
    "\n",
    "X_sm = X = sm.add_constant(X)\n",
    "model = sm.OLS(y,X_sm)\n",
    "model.fit().summary()"
   ]
  },
  {
   "cell_type": "code",
   "execution_count": 31,
   "id": "d2debcc1-365b-45ae-ba16-52c53b678381",
   "metadata": {},
   "outputs": [
    {
     "data": {
      "text/plain": [
       "-0.4255373398682911"
      ]
     },
     "execution_count": 31,
     "metadata": {},
     "output_type": "execute_result"
    }
   ],
   "source": [
    "from sklearn.linear_model import LinearRegression, Lasso\n",
    "from sklearn.model_selection import cross_val_score\n",
    "\n",
    "lm = LinearRegression()\n",
    "lm.fit(X_train, y_train)\n",
    "\n",
    "np.mean(cross_val_score(lm,X_train,y_train, scoring = 'neg_mean_absolute_error', cv= 3))"
   ]
  },
  {
   "cell_type": "code",
   "execution_count": 33,
   "id": "a93661a9-99cb-4469-a75b-ece60ec20788",
   "metadata": {},
   "outputs": [],
   "source": [
    "# lasso regression \n",
    "#NEED TO COME BACK TO THIS\n",
    "lm_l = Lasso(alpha=.13)\n",
    "lm_l.fit(X_train,y_train)\n",
    "np.mean(cross_val_score(lm_l,X_train,y_train, scoring = 'neg_mean_absolute_error', cv= 3))\n",
    "\n",
    "alpha = []\n",
    "error = []"
   ]
  },
  {
   "cell_type": "code",
   "execution_count": 34,
   "id": "bc0cf398-36e7-458f-a6c8-a460892a4968",
   "metadata": {},
   "outputs": [
    {
     "data": {
      "text/html": [
       "<div>\n",
       "<style scoped>\n",
       "    .dataframe tbody tr th:only-of-type {\n",
       "        vertical-align: middle;\n",
       "    }\n",
       "\n",
       "    .dataframe tbody tr th {\n",
       "        vertical-align: top;\n",
       "    }\n",
       "\n",
       "    .dataframe thead th {\n",
       "        text-align: right;\n",
       "    }\n",
       "</style>\n",
       "<table border=\"1\" class=\"dataframe\">\n",
       "  <thead>\n",
       "    <tr style=\"text-align: right;\">\n",
       "      <th></th>\n",
       "      <th>alpha</th>\n",
       "      <th>error</th>\n",
       "    </tr>\n",
       "  </thead>\n",
       "  <tbody>\n",
       "    <tr>\n",
       "      <th>0</th>\n",
       "      <td>0.01</td>\n",
       "      <td>-0.430218</td>\n",
       "    </tr>\n",
       "  </tbody>\n",
       "</table>\n",
       "</div>"
      ],
      "text/plain": [
       "   alpha     error\n",
       "0   0.01 -0.430218"
      ]
     },
     "execution_count": 34,
     "metadata": {},
     "output_type": "execute_result"
    },
    {
     "data": {
      "image/png": "[encoded data removed]",
      "text/plain": [
       "<Figure size 640x480 with 1 Axes>"
      ]
     },
     "metadata": {},
     "output_type": "display_data"
    }
   ],
   "source": [
    "for i in range(1,100):\n",
    "    alpha.append(i/100)\n",
    "    lml = Lasso(alpha=(i/100))\n",
    "    error.append(np.mean(cross_val_score(lml,X_train,y_train, scoring = 'neg_mean_absolute_error', cv= 3)))\n",
    "    \n",
    "plt.plot(alpha,error)\n",
    "\n",
    "err = tuple(zip(alpha,error))\n",
    "df_err = pd.DataFrame(err, columns = ['alpha','error'])\n",
    "df_err[df_err.error == max(df_err.error)]"
   ]
  },
  {
   "cell_type": "code",
   "execution_count": 35,
   "id": "eb483232-5fbb-4376-88c3-6633e3fc7d77",
   "metadata": {},
   "outputs": [
    {
     "data": {
      "text/plain": [
       "-0.43144437246799977"
      ]
     },
     "execution_count": 35,
     "metadata": {},
     "output_type": "execute_result"
    }
   ],
   "source": [
    "# random forest \n",
    "from sklearn.ensemble import RandomForestRegressor\n",
    "rf = RandomForestRegressor()\n",
    "\n",
    "np.mean(cross_val_score(rf,X_train,y_train,scoring = 'neg_mean_absolute_error', cv= 3))"
   ]
  },
  {
   "cell_type": "code",
   "execution_count": 42,
   "id": "e9d679d9-893c-4a78-a1b1-85cc42d72e3c",
   "metadata": {},
   "outputs": [
    {
     "ename": "ValueError",
     "evalue": "\nAll the 522 fits failed.\nIt is very likely that your model is misconfigured.\nYou can try to debug the error by setting error_score='raise'.\n\nBelow are more details about the failures:\n--------------------------------------------------------------------------------\n261 fits failed with the following error:\nTraceback (most recent call last):\n  File \"C:\\Users\\erins\\miniconda3\\lib\\site-packages\\sklearn\\model_selection\\_validation.py\", line 732, in _fit_and_score\n    estimator.fit(X_train, y_train, **fit_params)\n  File \"C:\\Users\\erins\\miniconda3\\lib\\site-packages\\sklearn\\base.py\", line 1144, in wrapper\n    estimator._validate_params()\n  File \"C:\\Users\\erins\\miniconda3\\lib\\site-packages\\sklearn\\base.py\", line 637, in _validate_params\n    validate_parameter_constraints(\n  File \"C:\\Users\\erins\\miniconda3\\lib\\site-packages\\sklearn\\utils\\_param_validation.py\", line 95, in validate_parameter_constraints\n    raise InvalidParameterError(\nsklearn.utils._param_validation.InvalidParameterError: The 'criterion' parameter of RandomForestRegressor must be a str among {'absolute_error', 'friedman_mse', 'poisson', 'squared_error'}. Got 'mse' instead.\n\n--------------------------------------------------------------------------------\n261 fits failed with the following error:\nTraceback (most recent call last):\n  File \"C:\\Users\\erins\\miniconda3\\lib\\site-packages\\sklearn\\model_selection\\_validation.py\", line 732, in _fit_and_score\n    estimator.fit(X_train, y_train, **fit_params)\n  File \"C:\\Users\\erins\\miniconda3\\lib\\site-packages\\sklearn\\base.py\", line 1144, in wrapper\n    estimator._validate_params()\n  File \"C:\\Users\\erins\\miniconda3\\lib\\site-packages\\sklearn\\base.py\", line 637, in _validate_params\n    validate_parameter_constraints(\n  File \"C:\\Users\\erins\\miniconda3\\lib\\site-packages\\sklearn\\utils\\_param_validation.py\", line 95, in validate_parameter_constraints\n    raise InvalidParameterError(\nsklearn.utils._param_validation.InvalidParameterError: The 'criterion' parameter of RandomForestRegressor must be a str among {'absolute_error', 'friedman_mse', 'poisson', 'squared_error'}. Got 'mae' instead.\n",
     "output_type": "error",
     "traceback": [
      "\u001b[1;31m---------------------------------------------------------------------------\u001b[0m",
      "\u001b[1;31mValueError\u001b[0m                                Traceback (most recent call last)",
      "Cell \u001b[1;32mIn[42], line 6\u001b[0m\n\u001b[0;32m      3\u001b[0m parameters \u001b[38;5;241m=\u001b[39m {\u001b[38;5;124m'\u001b[39m\u001b[38;5;124mn_estimators\u001b[39m\u001b[38;5;124m'\u001b[39m:\u001b[38;5;28mrange\u001b[39m(\u001b[38;5;241m10\u001b[39m,\u001b[38;5;241m300\u001b[39m,\u001b[38;5;241m10\u001b[39m), \u001b[38;5;124m'\u001b[39m\u001b[38;5;124mcriterion\u001b[39m\u001b[38;5;124m'\u001b[39m:(\u001b[38;5;124m'\u001b[39m\u001b[38;5;124mmse\u001b[39m\u001b[38;5;124m'\u001b[39m,\u001b[38;5;124m'\u001b[39m\u001b[38;5;124mmae\u001b[39m\u001b[38;5;124m'\u001b[39m), \u001b[38;5;124m'\u001b[39m\u001b[38;5;124mmax_features\u001b[39m\u001b[38;5;124m'\u001b[39m:(\u001b[38;5;124m'\u001b[39m\u001b[38;5;124mauto\u001b[39m\u001b[38;5;124m'\u001b[39m,\u001b[38;5;124m'\u001b[39m\u001b[38;5;124msqrt\u001b[39m\u001b[38;5;124m'\u001b[39m,\u001b[38;5;124m'\u001b[39m\u001b[38;5;124mlog2\u001b[39m\u001b[38;5;124m'\u001b[39m)}\n\u001b[0;32m      5\u001b[0m gs \u001b[38;5;241m=\u001b[39m GridSearchCV(rf,parameters,scoring\u001b[38;5;241m=\u001b[39m\u001b[38;5;124m'\u001b[39m\u001b[38;5;124mneg_mean_absolute_error\u001b[39m\u001b[38;5;124m'\u001b[39m,cv\u001b[38;5;241m=\u001b[39m\u001b[38;5;241m3\u001b[39m)\n\u001b[1;32m----> 6\u001b[0m \u001b[43mgs\u001b[49m\u001b[38;5;241;43m.\u001b[39;49m\u001b[43mfit\u001b[49m\u001b[43m(\u001b[49m\u001b[43mX_train\u001b[49m\u001b[43m,\u001b[49m\u001b[43my_train\u001b[49m\u001b[43m)\u001b[49m\n\u001b[0;32m      8\u001b[0m gs\u001b[38;5;241m.\u001b[39mbest_score_\n\u001b[0;32m      9\u001b[0m gs\u001b[38;5;241m.\u001b[39mbest_estimator_\n",
      "File \u001b[1;32m~\\miniconda3\\lib\\site-packages\\sklearn\\base.py:1151\u001b[0m, in \u001b[0;36m_fit_context.<locals>.decorator.<locals>.wrapper\u001b[1;34m(estimator, *args, **kwargs)\u001b[0m\n\u001b[0;32m   1144\u001b[0m     estimator\u001b[38;5;241m.\u001b[39m_validate_params()\n\u001b[0;32m   1146\u001b[0m \u001b[38;5;28;01mwith\u001b[39;00m config_context(\n\u001b[0;32m   1147\u001b[0m     skip_parameter_validation\u001b[38;5;241m=\u001b[39m(\n\u001b[0;32m   1148\u001b[0m         prefer_skip_nested_validation \u001b[38;5;129;01mor\u001b[39;00m global_skip_validation\n\u001b[0;32m   1149\u001b[0m     )\n\u001b[0;32m   1150\u001b[0m ):\n\u001b[1;32m-> 1151\u001b[0m     \u001b[38;5;28;01mreturn\u001b[39;00m fit_method(estimator, \u001b[38;5;241m*\u001b[39margs, \u001b[38;5;241m*\u001b[39m\u001b[38;5;241m*\u001b[39mkwargs)\n",
      "File \u001b[1;32m~\\miniconda3\\lib\\site-packages\\sklearn\\model_selection\\_search.py:898\u001b[0m, in \u001b[0;36mBaseSearchCV.fit\u001b[1;34m(self, X, y, groups, **fit_params)\u001b[0m\n\u001b[0;32m    892\u001b[0m     results \u001b[38;5;241m=\u001b[39m \u001b[38;5;28mself\u001b[39m\u001b[38;5;241m.\u001b[39m_format_results(\n\u001b[0;32m    893\u001b[0m         all_candidate_params, n_splits, all_out, all_more_results\n\u001b[0;32m    894\u001b[0m     )\n\u001b[0;32m    896\u001b[0m     \u001b[38;5;28;01mreturn\u001b[39;00m results\n\u001b[1;32m--> 898\u001b[0m \u001b[38;5;28;43mself\u001b[39;49m\u001b[38;5;241;43m.\u001b[39;49m\u001b[43m_run_search\u001b[49m\u001b[43m(\u001b[49m\u001b[43mevaluate_candidates\u001b[49m\u001b[43m)\u001b[49m\n\u001b[0;32m    900\u001b[0m \u001b[38;5;66;03m# multimetric is determined here because in the case of a callable\u001b[39;00m\n\u001b[0;32m    901\u001b[0m \u001b[38;5;66;03m# self.scoring the return type is only known after calling\u001b[39;00m\n\u001b[0;32m    902\u001b[0m first_test_score \u001b[38;5;241m=\u001b[39m all_out[\u001b[38;5;241m0\u001b[39m][\u001b[38;5;124m\"\u001b[39m\u001b[38;5;124mtest_scores\u001b[39m\u001b[38;5;124m\"\u001b[39m]\n",
      "File \u001b[1;32m~\\miniconda3\\lib\\site-packages\\sklearn\\model_selection\\_search.py:1419\u001b[0m, in \u001b[0;36mGridSearchCV._run_search\u001b[1;34m(self, evaluate_candidates)\u001b[0m\n\u001b[0;32m   1417\u001b[0m \u001b[38;5;28;01mdef\u001b[39;00m \u001b[38;5;21m_run_search\u001b[39m(\u001b[38;5;28mself\u001b[39m, evaluate_candidates):\n\u001b[0;32m   1418\u001b[0m \u001b[38;5;250m    \u001b[39m\u001b[38;5;124;03m\"\"\"Search all candidates in param_grid\"\"\"\u001b[39;00m\n\u001b[1;32m-> 1419\u001b[0m     \u001b[43mevaluate_candidates\u001b[49m\u001b[43m(\u001b[49m\u001b[43mParameterGrid\u001b[49m\u001b[43m(\u001b[49m\u001b[38;5;28;43mself\u001b[39;49m\u001b[38;5;241;43m.\u001b[39;49m\u001b[43mparam_grid\u001b[49m\u001b[43m)\u001b[49m\u001b[43m)\u001b[49m\n",
      "File \u001b[1;32m~\\miniconda3\\lib\\site-packages\\sklearn\\model_selection\\_search.py:875\u001b[0m, in \u001b[0;36mBaseSearchCV.fit.<locals>.evaluate_candidates\u001b[1;34m(candidate_params, cv, more_results)\u001b[0m\n\u001b[0;32m    868\u001b[0m \u001b[38;5;28;01melif\u001b[39;00m \u001b[38;5;28mlen\u001b[39m(out) \u001b[38;5;241m!=\u001b[39m n_candidates \u001b[38;5;241m*\u001b[39m n_splits:\n\u001b[0;32m    869\u001b[0m     \u001b[38;5;28;01mraise\u001b[39;00m \u001b[38;5;167;01mValueError\u001b[39;00m(\n\u001b[0;32m    870\u001b[0m         \u001b[38;5;124m\"\u001b[39m\u001b[38;5;124mcv.split and cv.get_n_splits returned \u001b[39m\u001b[38;5;124m\"\u001b[39m\n\u001b[0;32m    871\u001b[0m         \u001b[38;5;124m\"\u001b[39m\u001b[38;5;124minconsistent results. Expected \u001b[39m\u001b[38;5;132;01m{}\u001b[39;00m\u001b[38;5;124m \u001b[39m\u001b[38;5;124m\"\u001b[39m\n\u001b[0;32m    872\u001b[0m         \u001b[38;5;124m\"\u001b[39m\u001b[38;5;124msplits, got \u001b[39m\u001b[38;5;132;01m{}\u001b[39;00m\u001b[38;5;124m\"\u001b[39m\u001b[38;5;241m.\u001b[39mformat(n_splits, \u001b[38;5;28mlen\u001b[39m(out) \u001b[38;5;241m/\u001b[39m\u001b[38;5;241m/\u001b[39m n_candidates)\n\u001b[0;32m    873\u001b[0m     )\n\u001b[1;32m--> 875\u001b[0m \u001b[43m_warn_or_raise_about_fit_failures\u001b[49m\u001b[43m(\u001b[49m\u001b[43mout\u001b[49m\u001b[43m,\u001b[49m\u001b[43m \u001b[49m\u001b[38;5;28;43mself\u001b[39;49m\u001b[38;5;241;43m.\u001b[39;49m\u001b[43merror_score\u001b[49m\u001b[43m)\u001b[49m\n\u001b[0;32m    877\u001b[0m \u001b[38;5;66;03m# For callable self.scoring, the return type is only know after\u001b[39;00m\n\u001b[0;32m    878\u001b[0m \u001b[38;5;66;03m# calling. If the return type is a dictionary, the error scores\u001b[39;00m\n\u001b[0;32m    879\u001b[0m \u001b[38;5;66;03m# can now be inserted with the correct key. The type checking\u001b[39;00m\n\u001b[0;32m    880\u001b[0m \u001b[38;5;66;03m# of out will be done in `_insert_error_scores`.\u001b[39;00m\n\u001b[0;32m    881\u001b[0m \u001b[38;5;28;01mif\u001b[39;00m \u001b[38;5;28mcallable\u001b[39m(\u001b[38;5;28mself\u001b[39m\u001b[38;5;241m.\u001b[39mscoring):\n",
      "File \u001b[1;32m~\\miniconda3\\lib\\site-packages\\sklearn\\model_selection\\_validation.py:414\u001b[0m, in \u001b[0;36m_warn_or_raise_about_fit_failures\u001b[1;34m(results, error_score)\u001b[0m\n\u001b[0;32m    407\u001b[0m \u001b[38;5;28;01mif\u001b[39;00m num_failed_fits \u001b[38;5;241m==\u001b[39m num_fits:\n\u001b[0;32m    408\u001b[0m     all_fits_failed_message \u001b[38;5;241m=\u001b[39m (\n\u001b[0;32m    409\u001b[0m         \u001b[38;5;124mf\u001b[39m\u001b[38;5;124m\"\u001b[39m\u001b[38;5;130;01m\\n\u001b[39;00m\u001b[38;5;124mAll the \u001b[39m\u001b[38;5;132;01m{\u001b[39;00mnum_fits\u001b[38;5;132;01m}\u001b[39;00m\u001b[38;5;124m fits failed.\u001b[39m\u001b[38;5;130;01m\\n\u001b[39;00m\u001b[38;5;124m\"\u001b[39m\n\u001b[0;32m    410\u001b[0m         \u001b[38;5;124m\"\u001b[39m\u001b[38;5;124mIt is very likely that your model is misconfigured.\u001b[39m\u001b[38;5;130;01m\\n\u001b[39;00m\u001b[38;5;124m\"\u001b[39m\n\u001b[0;32m    411\u001b[0m         \u001b[38;5;124m\"\u001b[39m\u001b[38;5;124mYou can try to debug the error by setting error_score=\u001b[39m\u001b[38;5;124m'\u001b[39m\u001b[38;5;124mraise\u001b[39m\u001b[38;5;124m'\u001b[39m\u001b[38;5;124m.\u001b[39m\u001b[38;5;130;01m\\n\u001b[39;00m\u001b[38;5;130;01m\\n\u001b[39;00m\u001b[38;5;124m\"\u001b[39m\n\u001b[0;32m    412\u001b[0m         \u001b[38;5;124mf\u001b[39m\u001b[38;5;124m\"\u001b[39m\u001b[38;5;124mBelow are more details about the failures:\u001b[39m\u001b[38;5;130;01m\\n\u001b[39;00m\u001b[38;5;132;01m{\u001b[39;00mfit_errors_summary\u001b[38;5;132;01m}\u001b[39;00m\u001b[38;5;124m\"\u001b[39m\n\u001b[0;32m    413\u001b[0m     )\n\u001b[1;32m--> 414\u001b[0m     \u001b[38;5;28;01mraise\u001b[39;00m \u001b[38;5;167;01mValueError\u001b[39;00m(all_fits_failed_message)\n\u001b[0;32m    416\u001b[0m \u001b[38;5;28;01melse\u001b[39;00m:\n\u001b[0;32m    417\u001b[0m     some_fits_failed_message \u001b[38;5;241m=\u001b[39m (\n\u001b[0;32m    418\u001b[0m         \u001b[38;5;124mf\u001b[39m\u001b[38;5;124m\"\u001b[39m\u001b[38;5;130;01m\\n\u001b[39;00m\u001b[38;5;132;01m{\u001b[39;00mnum_failed_fits\u001b[38;5;132;01m}\u001b[39;00m\u001b[38;5;124m fits failed out of a total of \u001b[39m\u001b[38;5;132;01m{\u001b[39;00mnum_fits\u001b[38;5;132;01m}\u001b[39;00m\u001b[38;5;124m.\u001b[39m\u001b[38;5;130;01m\\n\u001b[39;00m\u001b[38;5;124m\"\u001b[39m\n\u001b[0;32m    419\u001b[0m         \u001b[38;5;124m\"\u001b[39m\u001b[38;5;124mThe score on these train-test partitions for these parameters\u001b[39m\u001b[38;5;124m\"\u001b[39m\n\u001b[1;32m   (...)\u001b[0m\n\u001b[0;32m    423\u001b[0m         \u001b[38;5;124mf\u001b[39m\u001b[38;5;124m\"\u001b[39m\u001b[38;5;124mBelow are more details about the failures:\u001b[39m\u001b[38;5;130;01m\\n\u001b[39;00m\u001b[38;5;132;01m{\u001b[39;00mfit_errors_summary\u001b[38;5;132;01m}\u001b[39;00m\u001b[38;5;124m\"\u001b[39m\n\u001b[0;32m    424\u001b[0m     )\n",
      "\u001b[1;31mValueError\u001b[0m: \nAll the 522 fits failed.\nIt is very likely that your model is misconfigured.\nYou can try to debug the error by setting error_score='raise'.\n\nBelow are more details about the failures:\n--------------------------------------------------------------------------------\n261 fits failed with the following error:\nTraceback (most recent call last):\n  File \"C:\\Users\\erins\\miniconda3\\lib\\site-packages\\sklearn\\model_selection\\_validation.py\", line 732, in _fit_and_score\n    estimator.fit(X_train, y_train, **fit_params)\n  File \"C:\\Users\\erins\\miniconda3\\lib\\site-packages\\sklearn\\base.py\", line 1144, in wrapper\n    estimator._validate_params()\n  File \"C:\\Users\\erins\\miniconda3\\lib\\site-packages\\sklearn\\base.py\", line 637, in _validate_params\n    validate_parameter_constraints(\n  File \"C:\\Users\\erins\\miniconda3\\lib\\site-packages\\sklearn\\utils\\_param_validation.py\", line 95, in validate_parameter_constraints\n    raise InvalidParameterError(\nsklearn.utils._param_validation.InvalidParameterError: The 'criterion' parameter of RandomForestRegressor must be a str among {'absolute_error', 'friedman_mse', 'poisson', 'squared_error'}. Got 'mse' instead.\n\n--------------------------------------------------------------------------------\n261 fits failed with the following error:\nTraceback (most recent call last):\n  File \"C:\\Users\\erins\\miniconda3\\lib\\site-packages\\sklearn\\model_selection\\_validation.py\", line 732, in _fit_and_score\n    estimator.fit(X_train, y_train, **fit_params)\n  File \"C:\\Users\\erins\\miniconda3\\lib\\site-packages\\sklearn\\base.py\", line 1144, in wrapper\n    estimator._validate_params()\n  File \"C:\\Users\\erins\\miniconda3\\lib\\site-packages\\sklearn\\base.py\", line 637, in _validate_params\n    validate_parameter_constraints(\n  File \"C:\\Users\\erins\\miniconda3\\lib\\site-packages\\sklearn\\utils\\_param_validation.py\", line 95, in validate_parameter_constraints\n    raise InvalidParameterError(\nsklearn.utils._param_validation.InvalidParameterError: The 'criterion' parameter of RandomForestRegressor must be a str among {'absolute_error', 'friedman_mse', 'poisson', 'squared_error'}. Got 'mae' instead.\n"
     ]
    }
   ],
   "source": [
    "# tune models GridsearchCV \n",
    "from sklearn.model_selection import GridSearchCV\n",
    "parameters = {'n_estimators':range(10,300,10), 'criterion':('mse','mae'), 'max_features':('auto','sqrt','log2')}\n",
    "\n",
    "gs = GridSearchCV(rf,parameters,scoring='neg_mean_absolute_error',cv=3)\n",
    "gs.fit(X_train,y_train)\n",
    "\n",
    "gs.best_score_\n",
    "gs.best_estimator_"
   ]
  },
  {
   "cell_type": "code",
   "execution_count": 38,
   "id": "b368c65c-2fcc-4c9e-b649-65031513176a",
   "metadata": {},
   "outputs": [],
   "source": [
    "# test ensembles \n",
    "tpred_lm = lm.predict(X_test)\n",
    "tpred_lml = lm_l.predict(X_test)\n",
    "tpred_rf = gs.best_estimator_.predict(X_test)"
   ]
  },
  {
   "cell_type": "code",
   "execution_count": 40,
   "id": "7225e144-7122-4856-9368-794edbff5159",
   "metadata": {},
   "outputs": [
    {
     "data": {
      "text/plain": [
       "0.4425285651155858"
      ]
     },
     "execution_count": 40,
     "metadata": {},
     "output_type": "execute_result"
    }
   ],
   "source": [
    "from sklearn.metrics import mean_absolute_error\n",
    "mean_absolute_error(y_test,tpred_lm)\n",
    "mean_absolute_error(y_test,tpred_lml)\n",
    "#mean_absolute_error(y_test,tpred_rf)\n",
    "\n",
    "#mean_absolute_error(y_test,(tpred_lm+tpred_rf)/2)"
   ]
  },
  {
   "cell_type": "code",
   "execution_count": 41,
   "id": "cdd1740b-ffc0-4f5e-b222-5709bef7966d",
   "metadata": {},
   "outputs": [
    {
     "ename": "AttributeError",
     "evalue": "'GridSearchCV' object has no attribute 'best_estimator_'",
     "output_type": "error",
     "traceback": [
      "\u001b[1;31m---------------------------------------------------------------------------\u001b[0m",
      "\u001b[1;31mAttributeError\u001b[0m                            Traceback (most recent call last)",
      "Cell \u001b[1;32mIn[41], line 2\u001b[0m\n\u001b[0;32m      1\u001b[0m \u001b[38;5;28;01mimport\u001b[39;00m \u001b[38;5;21;01mpickle\u001b[39;00m\n\u001b[1;32m----> 2\u001b[0m pickl \u001b[38;5;241m=\u001b[39m {\u001b[38;5;124m'\u001b[39m\u001b[38;5;124mmodel\u001b[39m\u001b[38;5;124m'\u001b[39m: \u001b[43mgs\u001b[49m\u001b[38;5;241;43m.\u001b[39;49m\u001b[43mbest_estimator_\u001b[49m}\n\u001b[0;32m      3\u001b[0m pickle\u001b[38;5;241m.\u001b[39mdump( pickl, \u001b[38;5;28mopen\u001b[39m( \u001b[38;5;124m'\u001b[39m\u001b[38;5;124mmodel_file\u001b[39m\u001b[38;5;124m'\u001b[39m \u001b[38;5;241m+\u001b[39m \u001b[38;5;124m\"\u001b[39m\u001b[38;5;124m.p\u001b[39m\u001b[38;5;124m\"\u001b[39m, \u001b[38;5;124m\"\u001b[39m\u001b[38;5;124mwb\u001b[39m\u001b[38;5;124m\"\u001b[39m ) )\n\u001b[0;32m      5\u001b[0m file_name \u001b[38;5;241m=\u001b[39m \u001b[38;5;124m\"\u001b[39m\u001b[38;5;124mmodel_file.p\u001b[39m\u001b[38;5;124m\"\u001b[39m\n",
      "\u001b[1;31mAttributeError\u001b[0m: 'GridSearchCV' object has no attribute 'best_estimator_'"
     ]
    }
   ],
   "source": [
    "import pickle\n",
    "pickl = {'model': gs.best_estimator_}\n",
    "pickle.dump( pickl, open( 'model_file' + \".p\", \"wb\" ) )\n",
    "\n",
    "file_name = \"model_file.p\"\n",
    "with open(file_name, 'rb') as pickled:\n",
    "    data = pickle.load(pickled)\n",
    "    model = data['model']\n",
    "\n",
    "model.predict(np.array(list(X_test.iloc[1,:])).reshape(1,-1))[0]\n",
    "\n",
    "list(X_test.iloc[1,:])"
   ]
  },
  {
   "cell_type": "code",
   "execution_count": 13,
   "id": "fca610d6-eaef-4fbe-93c9-d04a8e579185",
   "metadata": {},
   "outputs": [],
   "source": [
    "# from https://github.com/jordanwheeler7/capstone-crop-yield/blob/main/crop_yield.ipynb\n",
    "from sklearn.preprocessing import LabelEncoder\n",
    "%matplotlib inline\n",
    "import matplotlib.pyplot as plt\n",
    "import seaborn as sns\n",
    "from sklearn.model_selection import train_test_split\n",
    "from sklearn.linear_model import LinearRegression\n",
    "from sklearn.metrics import mean_squared_error, mean_absolute_error, r2_score\n",
    "from sklearn.preprocessing import StandardScaler\n",
    "from sklearn.impute import SimpleImputer\n",
    "from sklearn.neighbors import KNeighborsRegressor\n",
    "from sklearn.ensemble import RandomForestRegressor, GradientBoostingRegressor\n",
    "from sklearn.svm import SVR\n",
    "from sklearn.compose import ColumnTransformer\n",
    "from sklearn.preprocessing import OneHotEncoder\n",
    "from sklearn.pipeline import Pipeline\n",
    "from sklearn.preprocessing import PolynomialFeatures\n",
    "import plotly.express as px\n",
    "import statsmodels.api as sm\n",
    "from sklearn.tree import DecisionTreeRegressor\n",
    "from sklearn.metrics import accuracy_score\n",
    "from sklearn.model_selection import GridSearchCV\n",
    "from sklearn.neural_network import MLPRegressor\n",
    "from IPython.display import display\n",
    "from math import sqrt\n",
    "from sklearn.model_selection import cross_val_score\n",
    "from sklearn.model_selection import learning_curve\n",
    "from sklearn.inspection import permutation_importance"
   ]
  },
  {
   "cell_type": "code",
   "execution_count": 25,
   "id": "f2e88bf1-c4fd-408d-a176-bec68c90b40c",
   "metadata": {},
   "outputs": [
    {
     "name": "stdout",
     "output_type": "stream",
     "text": [
      "Random Forest - Training R-squared: 0.33612578847354546, Testing R-squared: 0.16471067529476835\n",
      "Random Forest - Training MAE: 0.3696295584243364, Testing MAE: 0.4029375444318513\n",
      "Random Forest - Training MSE: 0.2193521672262636, Testing MSE: 0.2757429633530479\n",
      "Random Forest - Training RMSE: 0.46835047477958597, Testing RMSE: 0.5251123340324886\n"
     ]
    }
   ],
   "source": [
    "# https://github.com/jordanwheeler7/capstone-crop-yield/blob/main/crop_yield.ipynb\n",
    "# Random Forest Best Parameters for my data: {'max_depth': 10, 'min_samples_split': 10, 'n_estimators': 300}\n",
    "rf = RandomForestRegressor(max_depth=10, min_samples_split=10, n_estimators=300, random_state=42)\n",
    "rf.fit(X_train, y_train)\n",
    "\n",
    "# Predictions\n",
    "y_train_pred = rf.predict(X_train)\n",
    "y_test_pred = rf.predict(X_test)\n",
    "\n",
    "# R-squared\n",
    "rf_train_score = r2_score(y_train, y_train_pred)\n",
    "rf_test_score = r2_score(y_test, y_test_pred)\n",
    "\n",
    "# Mean Absolute Error (MAE)\n",
    "rf_train_mae = mean_absolute_error(y_train, y_train_pred)\n",
    "rf_test_mae = mean_absolute_error(y_test, y_test_pred)\n",
    "\n",
    "# Mean Squared Error (MSE)\n",
    "rf_train_mse = mean_squared_error(y_train, y_train_pred)\n",
    "rf_test_mse = mean_squared_error(y_test, y_test_pred)\n",
    "\n",
    "# Root Mean Squared Error (RMSE)\n",
    "rf_train_rmse = np.sqrt(rf_train_mse)\n",
    "rf_test_rmse = np.sqrt(rf_test_mse)\n",
    "\n",
    "# Printing the results\n",
    "print(f\"Random Forest - Training R-squared: {rf_train_score}, Testing R-squared: {rf_test_score}\")\n",
    "print(f\"Random Forest - Training MAE: {rf_train_mae}, Testing MAE: {rf_test_mae}\")\n",
    "print(f\"Random Forest - Training MSE: {rf_train_mse}, Testing MSE: {rf_test_mse}\")\n",
    "print(f\"Random Forest - Training RMSE: {rf_train_rmse}, Testing RMSE: {rf_test_rmse}\")"
   ]
  },
  {
   "cell_type": "code",
   "execution_count": 26,
   "id": "79fe20e3-d2d6-4433-8c4a-6339bf75883a",
   "metadata": {},
   "outputs": [
    {
     "name": "stdout",
     "output_type": "stream",
     "text": [
      "Gradient Boosting - Training R-squared: 0.2356184710367074, Testing R-squared: 0.16769633995476152\n",
      "Gradient Boosting - Training MAE: 0.39473834021612597, Testing MAE: 0.402823086394851\n",
      "Gradient Boosting - Training MSE: 0.25256101540727166, Testing MSE: 0.2747573455598174\n",
      "Gradient Boosting - Training RMSE: 0.502554489988172, Testing RMSE: 0.5241730110944453\n"
     ]
    }
   ],
   "source": [
    "# https://github.com/jordanwheeler7/capstone-crop-yield/blob/main/crop_yield.ipynb\n",
    "# Gradient Boosting Best Parameters for my data: {'learning_rate': 0.1, 'max_depth': 3, 'n_estimators': 100}\n",
    "gb = GradientBoostingRegressor(n_estimators=100, learning_rate=0.1, max_depth=3, random_state=42)\n",
    "gb.fit(X_train, y_train)\n",
    "\n",
    "# Predictions\n",
    "y_train_pred = gb.predict(X_train)\n",
    "y_test_pred = gb.predict(X_test)\n",
    "\n",
    "# R-squared\n",
    "gb_train_score = r2_score(y_train, y_train_pred)\n",
    "gb_test_score = r2_score(y_test, y_test_pred)\n",
    "\n",
    "# Mean Absolute Error (MAE)\n",
    "gb_train_mae = mean_absolute_error(y_train, y_train_pred)\n",
    "gb_test_mae = mean_absolute_error(y_test, y_test_pred)\n",
    "\n",
    "# Mean Squared Error (MSE)\n",
    "gb_train_mse = mean_squared_error(y_train, y_train_pred)\n",
    "gb_test_mse = mean_squared_error(y_test, y_test_pred)\n",
    "\n",
    "# Root Mean Squared Error (RMSE)\n",
    "gb_train_rmse = np.sqrt(gb_train_mse)\n",
    "gb_test_rmse = np.sqrt(gb_test_mse)\n",
    "\n",
    "# Printing the results\n",
    "print(f\"Gradient Boosting - Training R-squared: {gb_train_score}, Testing R-squared: {gb_test_score}\")\n",
    "print(f\"Gradient Boosting - Training MAE: {gb_train_mae}, Testing MAE: {gb_test_mae}\")\n",
    "print(f\"Gradient Boosting - Training MSE: {gb_train_mse}, Testing MSE: {gb_test_mse}\")\n",
    "print(f\"Gradient Boosting - Training RMSE: {gb_train_rmse}, Testing RMSE: {gb_test_rmse}\")"
   ]
  },
  {
   "cell_type": "code",
   "execution_count": 27,
   "id": "0e032c15-34c2-4af1-8e21-d22d85b99ede",
   "metadata": {},
   "outputs": [
    {
     "name": "stdout",
     "output_type": "stream",
     "text": [
      "Decision Tree - Training R-squared: 0.26618390580135154, Testing R-squared: 0.09113684318049842\n",
      "Decision Tree - Training MAE: 0.3836792150377146, Testing MAE: 0.4172245706807807\n",
      "Decision Tree - Training MSE: 0.2424618215518247, Testing MSE: 0.30003091471599364\n",
      "Decision Tree - Training RMSE: 0.49240412422300517, Testing RMSE: 0.5477507779236773\n"
     ]
    }
   ],
   "source": [
    "# https://github.com/jordanwheeler7/capstone-crop-yield/blob/main/crop_yield.ipynb\n",
    "# Decision Tree Best Parameters for my data: {'max_depth': 10, 'min_samples_leaf': 4, 'min_samples_split': 10}\n",
    "dt = DecisionTreeRegressor(max_depth=10, min_samples_leaf=4, min_samples_split=10, random_state=42)\n",
    "dt.fit(X_train, y_train)\n",
    "\n",
    "# Predictions\n",
    "y_train_pred = dt.predict(X_train)\n",
    "y_test_pred = dt.predict(X_test)\n",
    "\n",
    "# R-squared\n",
    "dt_train_score = r2_score(y_train, y_train_pred)\n",
    "dt_test_score = r2_score(y_test, y_test_pred)\n",
    "\n",
    "# Mean Absolute Error (MAE)\n",
    "dt_train_mae = mean_absolute_error(y_train, y_train_pred)\n",
    "dt_test_mae = mean_absolute_error(y_test, y_test_pred)\n",
    "\n",
    "# Mean Squared Error (MSE)\n",
    "dt_train_mse = mean_squared_error(y_train, y_train_pred)\n",
    "dt_test_mse = mean_squared_error(y_test, y_test_pred)\n",
    "\n",
    "# Root Mean Squared Error (RMSE)\n",
    "dt_train_rmse = np.sqrt(dt_train_mse)\n",
    "dt_test_rmse = np.sqrt(dt_test_mse)\n",
    "\n",
    "# Printing the results\n",
    "print(f\"Decision Tree - Training R-squared: {dt_train_score}, Testing R-squared: {dt_test_score}\")\n",
    "print(f\"Decision Tree - Training MAE: {dt_train_mae}, Testing MAE: {dt_test_mae}\")\n",
    "print(f\"Decision Tree - Training MSE: {dt_train_mse}, Testing MSE: {dt_test_mse}\")\n",
    "print(f\"Decision Tree - Training RMSE: {dt_train_rmse}, Testing RMSE: {dt_test_rmse}\")"
   ]
  },
  {
   "cell_type": "code",
   "execution_count": 28,
   "id": "66f7d82a-284c-4f1e-a5df-49cd84b488a2",
   "metadata": {},
   "outputs": [
    {
     "name": "stdout",
     "output_type": "stream",
     "text": [
      "K-Nearest Neighbors - Training R-squared: 0.7440515501453162, Testing R-squared: 0.03290471119937577\n",
      "K-Nearest Neighbors - Training MAE: 0.15004213111950623, Testing MAE: 0.4113819231012143\n",
      "K-Nearest Neighbors - Training MSE: 0.08456850138031054, Testing MSE: 0.31925431451283287\n",
      "K-Nearest Neighbors - Training RMSE: 0.29080663916133437, Testing RMSE: 0.5650259414512159\n"
     ]
    }
   ],
   "source": [
    "# https://github.com/jordanwheeler7/capstone-crop-yield/blob/main/crop_yield.ipynb\n",
    "# K-Nearest Neighbors Best Parameters: {'algorithm': 'auto', 'n_neighbors': 7, 'weights': 'distance'}\n",
    "knn = KNeighborsRegressor(algorithm= 'auto', n_neighbors=7, weights= 'distance')\n",
    "knn.fit(X_train, y_train)\n",
    "\n",
    "# Predictions\n",
    "y_train_pred = knn.predict(X_train)\n",
    "y_test_pred = knn.predict(X_test)\n",
    "\n",
    "# R-squared\n",
    "knn_train_score = r2_score(y_train, y_train_pred)\n",
    "knn_test_score = r2_score(y_test, y_test_pred)\n",
    "\n",
    "# Mean Absolute Error (MAE)\n",
    "knn_train_mae = mean_absolute_error(y_train, y_train_pred)\n",
    "knn_test_mae = mean_absolute_error(y_test, y_test_pred)\n",
    "\n",
    "# Mean Squared Error (MSE)\n",
    "knn_train_mse = mean_squared_error(y_train, y_train_pred)\n",
    "knn_test_mse = mean_squared_error(y_test, y_test_pred)\n",
    "\n",
    "# Root Mean Squared Error (RMSE)\n",
    "knn_train_rmse = np.sqrt(knn_train_mse)\n",
    "knn_test_rmse = np.sqrt(knn_test_mse)\n",
    "\n",
    "# Printing the results\n",
    "print(f\"K-Nearest Neighbors - Training R-squared: {knn_train_score}, Testing R-squared: {knn_test_score}\")\n",
    "print(f\"K-Nearest Neighbors - Training MAE: {knn_train_mae}, Testing MAE: {knn_test_mae}\")\n",
    "print(f\"K-Nearest Neighbors - Training MSE: {knn_train_mse}, Testing MSE: {knn_test_mse}\")\n",
    "print(f\"K-Nearest Neighbors - Training RMSE: {knn_train_rmse}, Testing RMSE: {knn_test_rmse}\")"
   ]
  },
  {
   "cell_type": "code",
   "execution_count": 18,
   "id": "9830e0ca-7887-44be-8bda-79dc9cafa55d",
   "metadata": {},
   "outputs": [
    {
     "name": "stdout",
     "output_type": "stream",
     "text": [
      "Neural Network - Training R-squared: 0.015346502653126315, Testing R-squared: 0.025104357150271817\n",
      "Neural Network - Training MAE: 0.4465871633147178, Testing MAE: 0.43037293480315797\n",
      "Neural Network - Training MSE: 0.3253415705263466, Testing MSE: 0.32182934172446626\n",
      "Neural Network - Training RMSE: 0.5703872110473258, Testing RMSE: 0.5673000455882815\n"
     ]
    }
   ],
   "source": [
    "# https://github.com/jordanwheeler7/capstone-crop-yield/blob/main/crop_yield.ipynb\n",
    "# Buidling the Neural Network Model\n",
    "nn_model = MLPRegressor(hidden_layer_sizes=(250), max_iter=1000, random_state=42)\n",
    "\n",
    "# Training the model\n",
    "nn_model.fit(X_train, y_train)\n",
    "\n",
    "# Predicting and evaluating the model\n",
    "y_train_pred = nn_model.predict(X_train)\n",
    "y_test_pred = nn_model.predict(X_test)\n",
    "\n",
    "# R-squared\n",
    "train_r2 = r2_score(y_train, y_train_pred)\n",
    "test_r2 = r2_score(y_test, y_test_pred)\n",
    "\n",
    "# Mean Absolute Error (MAE)\n",
    "train_mae = mean_absolute_error(y_train, y_train_pred)\n",
    "test_mae = mean_absolute_error(y_test, y_test_pred)\n",
    "\n",
    "# Mean Squared Error (MSE)\n",
    "train_mse = mean_squared_error(y_train, y_train_pred)\n",
    "test_mse = mean_squared_error(y_test, y_test_pred)\n",
    "\n",
    "# Root Mean Squared Error (RMSE)\n",
    "train_rmse = np.sqrt(train_mse)\n",
    "test_rmse = np.sqrt(test_mse)\n",
    "\n",
    "# Printing the results\n",
    "print(f\"Neural Network - Training R-squared: {train_r2}, Testing R-squared: {test_r2}\")\n",
    "print(f\"Neural Network - Training MAE: {train_mae}, Testing MAE: {test_mae}\")\n",
    "print(f\"Neural Network - Training MSE: {train_mse}, Testing MSE: {test_mse}\")\n",
    "print(f\"Neural Network - Training RMSE: {train_rmse}, Testing RMSE: {test_rmse}\")"
   ]
  },
  {
   "cell_type": "code",
   "execution_count": 29,
   "id": "f11fe752-7e87-41d9-a286-6ef3ae49f254",
   "metadata": {},
   "outputs": [
    {
     "ename": "KeyboardInterrupt",
     "evalue": "",
     "output_type": "error",
     "traceback": [
      "\u001b[1;31m---------------------------------------------------------------------------\u001b[0m",
      "\u001b[1;31mKeyboardInterrupt\u001b[0m                         Traceback (most recent call last)",
      "Cell \u001b[1;32mIn[29], line 72\u001b[0m\n\u001b[0;32m     62\u001b[0m nn_params \u001b[38;5;241m=\u001b[39m {\n\u001b[0;32m     63\u001b[0m     \u001b[38;5;124m'\u001b[39m\u001b[38;5;124mhidden_layer_sizes\u001b[39m\u001b[38;5;124m'\u001b[39m: [(\u001b[38;5;241m50\u001b[39m,), (\u001b[38;5;241m100\u001b[39m,), (\u001b[38;5;241m50\u001b[39m,\u001b[38;5;241m50\u001b[39m), (\u001b[38;5;241m100\u001b[39m,\u001b[38;5;241m100\u001b[39m)],\n\u001b[0;32m     64\u001b[0m     \u001b[38;5;124m'\u001b[39m\u001b[38;5;124mactivation\u001b[39m\u001b[38;5;124m'\u001b[39m: [\u001b[38;5;124m'\u001b[39m\u001b[38;5;124midentity\u001b[39m\u001b[38;5;124m'\u001b[39m, \u001b[38;5;124m'\u001b[39m\u001b[38;5;124mlogistic\u001b[39m\u001b[38;5;124m'\u001b[39m, \u001b[38;5;124m'\u001b[39m\u001b[38;5;124mtanh\u001b[39m\u001b[38;5;124m'\u001b[39m, \u001b[38;5;124m'\u001b[39m\u001b[38;5;124mrelu\u001b[39m\u001b[38;5;124m'\u001b[39m],\n\u001b[1;32m   (...)\u001b[0m\n\u001b[0;32m     68\u001b[0m     \u001b[38;5;124m'\u001b[39m\u001b[38;5;124mmax_iter\u001b[39m\u001b[38;5;124m'\u001b[39m: [\u001b[38;5;241m200\u001b[39m, \u001b[38;5;241m500\u001b[39m, \u001b[38;5;241m1000\u001b[39m]\n\u001b[0;32m     69\u001b[0m }\n\u001b[0;32m     71\u001b[0m \u001b[38;5;66;03m# Perform grid search for MLPRegressor\u001b[39;00m\n\u001b[1;32m---> 72\u001b[0m \u001b[43mperform_grid_search\u001b[49m\u001b[43m(\u001b[49m\u001b[43mMLPRegressor\u001b[49m\u001b[43m(\u001b[49m\u001b[43mrandom_state\u001b[49m\u001b[38;5;241;43m=\u001b[39;49m\u001b[38;5;241;43m42\u001b[39;49m\u001b[43m)\u001b[49m\u001b[43m,\u001b[49m\u001b[43m \u001b[49m\u001b[43mnn_params\u001b[49m\u001b[43m,\u001b[49m\u001b[43m \u001b[49m\u001b[38;5;124;43m'\u001b[39;49m\u001b[38;5;124;43mNeural Network\u001b[39;49m\u001b[38;5;124;43m'\u001b[39;49m\u001b[43m,\u001b[49m\u001b[43m \u001b[49m\u001b[43mX_train\u001b[49m\u001b[43m,\u001b[49m\u001b[43m \u001b[49m\u001b[43my_train\u001b[49m\u001b[43m,\u001b[49m\u001b[43m \u001b[49m\u001b[43mX_test\u001b[49m\u001b[43m,\u001b[49m\u001b[43m \u001b[49m\u001b[43my_test\u001b[49m\u001b[43m)\u001b[49m\n",
      "Cell \u001b[1;32mIn[29], line 12\u001b[0m, in \u001b[0;36mperform_grid_search\u001b[1;34m(estimator, param_grid, model_name, X_train, y_train, X_test, y_test)\u001b[0m\n\u001b[0;32m     10\u001b[0m \u001b[38;5;28;01mdef\u001b[39;00m \u001b[38;5;21mperform_grid_search\u001b[39m(estimator, param_grid, model_name, X_train, y_train, X_test, y_test):\n\u001b[0;32m     11\u001b[0m     grid_search \u001b[38;5;241m=\u001b[39m GridSearchCV(estimator, param_grid, cv\u001b[38;5;241m=\u001b[39m\u001b[38;5;241m5\u001b[39m, scoring\u001b[38;5;241m=\u001b[39m\u001b[38;5;124m'\u001b[39m\u001b[38;5;124mneg_mean_absolute_error\u001b[39m\u001b[38;5;124m'\u001b[39m, n_jobs\u001b[38;5;241m=\u001b[39m\u001b[38;5;241m-\u001b[39m\u001b[38;5;241m1\u001b[39m)\n\u001b[1;32m---> 12\u001b[0m     \u001b[43mgrid_search\u001b[49m\u001b[38;5;241;43m.\u001b[39;49m\u001b[43mfit\u001b[49m\u001b[43m(\u001b[49m\u001b[43mX_train\u001b[49m\u001b[43m,\u001b[49m\u001b[43m \u001b[49m\u001b[43my_train\u001b[49m\u001b[43m)\u001b[49m\n\u001b[0;32m     14\u001b[0m     best_estimator \u001b[38;5;241m=\u001b[39m grid_search\u001b[38;5;241m.\u001b[39mbest_estimator_\n\u001b[0;32m     15\u001b[0m     predictions \u001b[38;5;241m=\u001b[39m best_estimator\u001b[38;5;241m.\u001b[39mpredict(X_test)\n",
      "File \u001b[1;32m~\\miniconda3\\lib\\site-packages\\sklearn\\base.py:1151\u001b[0m, in \u001b[0;36m_fit_context.<locals>.decorator.<locals>.wrapper\u001b[1;34m(estimator, *args, **kwargs)\u001b[0m\n\u001b[0;32m   1144\u001b[0m     estimator\u001b[38;5;241m.\u001b[39m_validate_params()\n\u001b[0;32m   1146\u001b[0m \u001b[38;5;28;01mwith\u001b[39;00m config_context(\n\u001b[0;32m   1147\u001b[0m     skip_parameter_validation\u001b[38;5;241m=\u001b[39m(\n\u001b[0;32m   1148\u001b[0m         prefer_skip_nested_validation \u001b[38;5;129;01mor\u001b[39;00m global_skip_validation\n\u001b[0;32m   1149\u001b[0m     )\n\u001b[0;32m   1150\u001b[0m ):\n\u001b[1;32m-> 1151\u001b[0m     \u001b[38;5;28;01mreturn\u001b[39;00m fit_method(estimator, \u001b[38;5;241m*\u001b[39margs, \u001b[38;5;241m*\u001b[39m\u001b[38;5;241m*\u001b[39mkwargs)\n",
      "File \u001b[1;32m~\\miniconda3\\lib\\site-packages\\sklearn\\model_selection\\_search.py:898\u001b[0m, in \u001b[0;36mBaseSearchCV.fit\u001b[1;34m(self, X, y, groups, **fit_params)\u001b[0m\n\u001b[0;32m    892\u001b[0m     results \u001b[38;5;241m=\u001b[39m \u001b[38;5;28mself\u001b[39m\u001b[38;5;241m.\u001b[39m_format_results(\n\u001b[0;32m    893\u001b[0m         all_candidate_params, n_splits, all_out, all_more_results\n\u001b[0;32m    894\u001b[0m     )\n\u001b[0;32m    896\u001b[0m     \u001b[38;5;28;01mreturn\u001b[39;00m results\n\u001b[1;32m--> 898\u001b[0m \u001b[38;5;28;43mself\u001b[39;49m\u001b[38;5;241;43m.\u001b[39;49m\u001b[43m_run_search\u001b[49m\u001b[43m(\u001b[49m\u001b[43mevaluate_candidates\u001b[49m\u001b[43m)\u001b[49m\n\u001b[0;32m    900\u001b[0m \u001b[38;5;66;03m# multimetric is determined here because in the case of a callable\u001b[39;00m\n\u001b[0;32m    901\u001b[0m \u001b[38;5;66;03m# self.scoring the return type is only known after calling\u001b[39;00m\n\u001b[0;32m    902\u001b[0m first_test_score \u001b[38;5;241m=\u001b[39m all_out[\u001b[38;5;241m0\u001b[39m][\u001b[38;5;124m\"\u001b[39m\u001b[38;5;124mtest_scores\u001b[39m\u001b[38;5;124m\"\u001b[39m]\n",
      "File \u001b[1;32m~\\miniconda3\\lib\\site-packages\\sklearn\\model_selection\\_search.py:1419\u001b[0m, in \u001b[0;36mGridSearchCV._run_search\u001b[1;34m(self, evaluate_candidates)\u001b[0m\n\u001b[0;32m   1417\u001b[0m \u001b[38;5;28;01mdef\u001b[39;00m \u001b[38;5;21m_run_search\u001b[39m(\u001b[38;5;28mself\u001b[39m, evaluate_candidates):\n\u001b[0;32m   1418\u001b[0m \u001b[38;5;250m    \u001b[39m\u001b[38;5;124;03m\"\"\"Search all candidates in param_grid\"\"\"\u001b[39;00m\n\u001b[1;32m-> 1419\u001b[0m     \u001b[43mevaluate_candidates\u001b[49m\u001b[43m(\u001b[49m\u001b[43mParameterGrid\u001b[49m\u001b[43m(\u001b[49m\u001b[38;5;28;43mself\u001b[39;49m\u001b[38;5;241;43m.\u001b[39;49m\u001b[43mparam_grid\u001b[49m\u001b[43m)\u001b[49m\u001b[43m)\u001b[49m\n",
      "File \u001b[1;32m~\\miniconda3\\lib\\site-packages\\sklearn\\model_selection\\_search.py:845\u001b[0m, in \u001b[0;36mBaseSearchCV.fit.<locals>.evaluate_candidates\u001b[1;34m(candidate_params, cv, more_results)\u001b[0m\n\u001b[0;32m    837\u001b[0m \u001b[38;5;28;01mif\u001b[39;00m \u001b[38;5;28mself\u001b[39m\u001b[38;5;241m.\u001b[39mverbose \u001b[38;5;241m>\u001b[39m \u001b[38;5;241m0\u001b[39m:\n\u001b[0;32m    838\u001b[0m     \u001b[38;5;28mprint\u001b[39m(\n\u001b[0;32m    839\u001b[0m         \u001b[38;5;124m\"\u001b[39m\u001b[38;5;124mFitting \u001b[39m\u001b[38;5;132;01m{0}\u001b[39;00m\u001b[38;5;124m folds for each of \u001b[39m\u001b[38;5;132;01m{1}\u001b[39;00m\u001b[38;5;124m candidates,\u001b[39m\u001b[38;5;124m\"\u001b[39m\n\u001b[0;32m    840\u001b[0m         \u001b[38;5;124m\"\u001b[39m\u001b[38;5;124m totalling \u001b[39m\u001b[38;5;132;01m{2}\u001b[39;00m\u001b[38;5;124m fits\u001b[39m\u001b[38;5;124m\"\u001b[39m\u001b[38;5;241m.\u001b[39mformat(\n\u001b[0;32m    841\u001b[0m             n_splits, n_candidates, n_candidates \u001b[38;5;241m*\u001b[39m n_splits\n\u001b[0;32m    842\u001b[0m         )\n\u001b[0;32m    843\u001b[0m     )\n\u001b[1;32m--> 845\u001b[0m out \u001b[38;5;241m=\u001b[39m \u001b[43mparallel\u001b[49m\u001b[43m(\u001b[49m\n\u001b[0;32m    846\u001b[0m \u001b[43m    \u001b[49m\u001b[43mdelayed\u001b[49m\u001b[43m(\u001b[49m\u001b[43m_fit_and_score\u001b[49m\u001b[43m)\u001b[49m\u001b[43m(\u001b[49m\n\u001b[0;32m    847\u001b[0m \u001b[43m        \u001b[49m\u001b[43mclone\u001b[49m\u001b[43m(\u001b[49m\u001b[43mbase_estimator\u001b[49m\u001b[43m)\u001b[49m\u001b[43m,\u001b[49m\n\u001b[0;32m    848\u001b[0m \u001b[43m        \u001b[49m\u001b[43mX\u001b[49m\u001b[43m,\u001b[49m\n\u001b[0;32m    849\u001b[0m \u001b[43m        \u001b[49m\u001b[43my\u001b[49m\u001b[43m,\u001b[49m\n\u001b[0;32m    850\u001b[0m \u001b[43m        \u001b[49m\u001b[43mtrain\u001b[49m\u001b[38;5;241;43m=\u001b[39;49m\u001b[43mtrain\u001b[49m\u001b[43m,\u001b[49m\n\u001b[0;32m    851\u001b[0m \u001b[43m        \u001b[49m\u001b[43mtest\u001b[49m\u001b[38;5;241;43m=\u001b[39;49m\u001b[43mtest\u001b[49m\u001b[43m,\u001b[49m\n\u001b[0;32m    852\u001b[0m \u001b[43m        \u001b[49m\u001b[43mparameters\u001b[49m\u001b[38;5;241;43m=\u001b[39;49m\u001b[43mparameters\u001b[49m\u001b[43m,\u001b[49m\n\u001b[0;32m    853\u001b[0m \u001b[43m        \u001b[49m\u001b[43msplit_progress\u001b[49m\u001b[38;5;241;43m=\u001b[39;49m\u001b[43m(\u001b[49m\u001b[43msplit_idx\u001b[49m\u001b[43m,\u001b[49m\u001b[43m \u001b[49m\u001b[43mn_splits\u001b[49m\u001b[43m)\u001b[49m\u001b[43m,\u001b[49m\n\u001b[0;32m    854\u001b[0m \u001b[43m        \u001b[49m\u001b[43mcandidate_progress\u001b[49m\u001b[38;5;241;43m=\u001b[39;49m\u001b[43m(\u001b[49m\u001b[43mcand_idx\u001b[49m\u001b[43m,\u001b[49m\u001b[43m \u001b[49m\u001b[43mn_candidates\u001b[49m\u001b[43m)\u001b[49m\u001b[43m,\u001b[49m\n\u001b[0;32m    855\u001b[0m \u001b[43m        \u001b[49m\u001b[38;5;241;43m*\u001b[39;49m\u001b[38;5;241;43m*\u001b[39;49m\u001b[43mfit_and_score_kwargs\u001b[49m\u001b[43m,\u001b[49m\n\u001b[0;32m    856\u001b[0m \u001b[43m    \u001b[49m\u001b[43m)\u001b[49m\n\u001b[0;32m    857\u001b[0m \u001b[43m    \u001b[49m\u001b[38;5;28;43;01mfor\u001b[39;49;00m\u001b[43m \u001b[49m\u001b[43m(\u001b[49m\u001b[43mcand_idx\u001b[49m\u001b[43m,\u001b[49m\u001b[43m \u001b[49m\u001b[43mparameters\u001b[49m\u001b[43m)\u001b[49m\u001b[43m,\u001b[49m\u001b[43m \u001b[49m\u001b[43m(\u001b[49m\u001b[43msplit_idx\u001b[49m\u001b[43m,\u001b[49m\u001b[43m \u001b[49m\u001b[43m(\u001b[49m\u001b[43mtrain\u001b[49m\u001b[43m,\u001b[49m\u001b[43m \u001b[49m\u001b[43mtest\u001b[49m\u001b[43m)\u001b[49m\u001b[43m)\u001b[49m\u001b[43m \u001b[49m\u001b[38;5;129;43;01min\u001b[39;49;00m\u001b[43m \u001b[49m\u001b[43mproduct\u001b[49m\u001b[43m(\u001b[49m\n\u001b[0;32m    858\u001b[0m \u001b[43m        \u001b[49m\u001b[38;5;28;43menumerate\u001b[39;49m\u001b[43m(\u001b[49m\u001b[43mcandidate_params\u001b[49m\u001b[43m)\u001b[49m\u001b[43m,\u001b[49m\u001b[43m \u001b[49m\u001b[38;5;28;43menumerate\u001b[39;49m\u001b[43m(\u001b[49m\u001b[43mcv\u001b[49m\u001b[38;5;241;43m.\u001b[39;49m\u001b[43msplit\u001b[49m\u001b[43m(\u001b[49m\u001b[43mX\u001b[49m\u001b[43m,\u001b[49m\u001b[43m \u001b[49m\u001b[43my\u001b[49m\u001b[43m,\u001b[49m\u001b[43m \u001b[49m\u001b[43mgroups\u001b[49m\u001b[43m)\u001b[49m\u001b[43m)\u001b[49m\n\u001b[0;32m    859\u001b[0m \u001b[43m    \u001b[49m\u001b[43m)\u001b[49m\n\u001b[0;32m    860\u001b[0m \u001b[43m\u001b[49m\u001b[43m)\u001b[49m\n\u001b[0;32m    862\u001b[0m \u001b[38;5;28;01mif\u001b[39;00m \u001b[38;5;28mlen\u001b[39m(out) \u001b[38;5;241m<\u001b[39m \u001b[38;5;241m1\u001b[39m:\n\u001b[0;32m    863\u001b[0m     \u001b[38;5;28;01mraise\u001b[39;00m \u001b[38;5;167;01mValueError\u001b[39;00m(\n\u001b[0;32m    864\u001b[0m         \u001b[38;5;124m\"\u001b[39m\u001b[38;5;124mNo fits were performed. \u001b[39m\u001b[38;5;124m\"\u001b[39m\n\u001b[0;32m    865\u001b[0m         \u001b[38;5;124m\"\u001b[39m\u001b[38;5;124mWas the CV iterator empty? \u001b[39m\u001b[38;5;124m\"\u001b[39m\n\u001b[0;32m    866\u001b[0m         \u001b[38;5;124m\"\u001b[39m\u001b[38;5;124mWere there no candidates?\u001b[39m\u001b[38;5;124m\"\u001b[39m\n\u001b[0;32m    867\u001b[0m     )\n",
      "File \u001b[1;32m~\\miniconda3\\lib\\site-packages\\sklearn\\utils\\parallel.py:65\u001b[0m, in \u001b[0;36mParallel.__call__\u001b[1;34m(self, iterable)\u001b[0m\n\u001b[0;32m     60\u001b[0m config \u001b[38;5;241m=\u001b[39m get_config()\n\u001b[0;32m     61\u001b[0m iterable_with_config \u001b[38;5;241m=\u001b[39m (\n\u001b[0;32m     62\u001b[0m     (_with_config(delayed_func, config), args, kwargs)\n\u001b[0;32m     63\u001b[0m     \u001b[38;5;28;01mfor\u001b[39;00m delayed_func, args, kwargs \u001b[38;5;129;01min\u001b[39;00m iterable\n\u001b[0;32m     64\u001b[0m )\n\u001b[1;32m---> 65\u001b[0m \u001b[38;5;28;01mreturn\u001b[39;00m \u001b[38;5;28;43msuper\u001b[39;49m\u001b[43m(\u001b[49m\u001b[43m)\u001b[49m\u001b[38;5;241;43m.\u001b[39;49m\u001b[38;5;21;43m__call__\u001b[39;49m\u001b[43m(\u001b[49m\u001b[43miterable_with_config\u001b[49m\u001b[43m)\u001b[49m\n",
      "File \u001b[1;32m~\\miniconda3\\lib\\site-packages\\joblib\\parallel.py:1098\u001b[0m, in \u001b[0;36mParallel.__call__\u001b[1;34m(self, iterable)\u001b[0m\n\u001b[0;32m   1095\u001b[0m     \u001b[38;5;28mself\u001b[39m\u001b[38;5;241m.\u001b[39m_iterating \u001b[38;5;241m=\u001b[39m \u001b[38;5;28;01mFalse\u001b[39;00m\n\u001b[0;32m   1097\u001b[0m \u001b[38;5;28;01mwith\u001b[39;00m \u001b[38;5;28mself\u001b[39m\u001b[38;5;241m.\u001b[39m_backend\u001b[38;5;241m.\u001b[39mretrieval_context():\n\u001b[1;32m-> 1098\u001b[0m     \u001b[38;5;28;43mself\u001b[39;49m\u001b[38;5;241;43m.\u001b[39;49m\u001b[43mretrieve\u001b[49m\u001b[43m(\u001b[49m\u001b[43m)\u001b[49m\n\u001b[0;32m   1099\u001b[0m \u001b[38;5;66;03m# Make sure that we get a last message telling us we are done\u001b[39;00m\n\u001b[0;32m   1100\u001b[0m elapsed_time \u001b[38;5;241m=\u001b[39m time\u001b[38;5;241m.\u001b[39mtime() \u001b[38;5;241m-\u001b[39m \u001b[38;5;28mself\u001b[39m\u001b[38;5;241m.\u001b[39m_start_time\n",
      "File \u001b[1;32m~\\miniconda3\\lib\\site-packages\\joblib\\parallel.py:975\u001b[0m, in \u001b[0;36mParallel.retrieve\u001b[1;34m(self)\u001b[0m\n\u001b[0;32m    973\u001b[0m \u001b[38;5;28;01mtry\u001b[39;00m:\n\u001b[0;32m    974\u001b[0m     \u001b[38;5;28;01mif\u001b[39;00m \u001b[38;5;28mgetattr\u001b[39m(\u001b[38;5;28mself\u001b[39m\u001b[38;5;241m.\u001b[39m_backend, \u001b[38;5;124m'\u001b[39m\u001b[38;5;124msupports_timeout\u001b[39m\u001b[38;5;124m'\u001b[39m, \u001b[38;5;28;01mFalse\u001b[39;00m):\n\u001b[1;32m--> 975\u001b[0m         \u001b[38;5;28mself\u001b[39m\u001b[38;5;241m.\u001b[39m_output\u001b[38;5;241m.\u001b[39mextend(\u001b[43mjob\u001b[49m\u001b[38;5;241;43m.\u001b[39;49m\u001b[43mget\u001b[49m\u001b[43m(\u001b[49m\u001b[43mtimeout\u001b[49m\u001b[38;5;241;43m=\u001b[39;49m\u001b[38;5;28;43mself\u001b[39;49m\u001b[38;5;241;43m.\u001b[39;49m\u001b[43mtimeout\u001b[49m\u001b[43m)\u001b[49m)\n\u001b[0;32m    976\u001b[0m     \u001b[38;5;28;01melse\u001b[39;00m:\n\u001b[0;32m    977\u001b[0m         \u001b[38;5;28mself\u001b[39m\u001b[38;5;241m.\u001b[39m_output\u001b[38;5;241m.\u001b[39mextend(job\u001b[38;5;241m.\u001b[39mget())\n",
      "File \u001b[1;32m~\\miniconda3\\lib\\site-packages\\joblib\\_parallel_backends.py:567\u001b[0m, in \u001b[0;36mLokyBackend.wrap_future_result\u001b[1;34m(future, timeout)\u001b[0m\n\u001b[0;32m    564\u001b[0m \u001b[38;5;250m\u001b[39m\u001b[38;5;124;03m\"\"\"Wrapper for Future.result to implement the same behaviour as\u001b[39;00m\n\u001b[0;32m    565\u001b[0m \u001b[38;5;124;03mAsyncResults.get from multiprocessing.\"\"\"\u001b[39;00m\n\u001b[0;32m    566\u001b[0m \u001b[38;5;28;01mtry\u001b[39;00m:\n\u001b[1;32m--> 567\u001b[0m     \u001b[38;5;28;01mreturn\u001b[39;00m \u001b[43mfuture\u001b[49m\u001b[38;5;241;43m.\u001b[39;49m\u001b[43mresult\u001b[49m\u001b[43m(\u001b[49m\u001b[43mtimeout\u001b[49m\u001b[38;5;241;43m=\u001b[39;49m\u001b[43mtimeout\u001b[49m\u001b[43m)\u001b[49m\n\u001b[0;32m    568\u001b[0m \u001b[38;5;28;01mexcept\u001b[39;00m CfTimeoutError \u001b[38;5;28;01mas\u001b[39;00m e:\n\u001b[0;32m    569\u001b[0m     \u001b[38;5;28;01mraise\u001b[39;00m \u001b[38;5;167;01mTimeoutError\u001b[39;00m \u001b[38;5;28;01mfrom\u001b[39;00m \u001b[38;5;21;01me\u001b[39;00m\n",
      "File \u001b[1;32m~\\miniconda3\\lib\\concurrent\\futures\\_base.py:453\u001b[0m, in \u001b[0;36mFuture.result\u001b[1;34m(self, timeout)\u001b[0m\n\u001b[0;32m    450\u001b[0m \u001b[38;5;28;01melif\u001b[39;00m \u001b[38;5;28mself\u001b[39m\u001b[38;5;241m.\u001b[39m_state \u001b[38;5;241m==\u001b[39m FINISHED:\n\u001b[0;32m    451\u001b[0m     \u001b[38;5;28;01mreturn\u001b[39;00m \u001b[38;5;28mself\u001b[39m\u001b[38;5;241m.\u001b[39m__get_result()\n\u001b[1;32m--> 453\u001b[0m \u001b[38;5;28;43mself\u001b[39;49m\u001b[38;5;241;43m.\u001b[39;49m\u001b[43m_condition\u001b[49m\u001b[38;5;241;43m.\u001b[39;49m\u001b[43mwait\u001b[49m\u001b[43m(\u001b[49m\u001b[43mtimeout\u001b[49m\u001b[43m)\u001b[49m\n\u001b[0;32m    455\u001b[0m \u001b[38;5;28;01mif\u001b[39;00m \u001b[38;5;28mself\u001b[39m\u001b[38;5;241m.\u001b[39m_state \u001b[38;5;129;01min\u001b[39;00m [CANCELLED, CANCELLED_AND_NOTIFIED]:\n\u001b[0;32m    456\u001b[0m     \u001b[38;5;28;01mraise\u001b[39;00m CancelledError()\n",
      "File \u001b[1;32m~\\miniconda3\\lib\\threading.py:320\u001b[0m, in \u001b[0;36mCondition.wait\u001b[1;34m(self, timeout)\u001b[0m\n\u001b[0;32m    318\u001b[0m \u001b[38;5;28;01mtry\u001b[39;00m:    \u001b[38;5;66;03m# restore state no matter what (e.g., KeyboardInterrupt)\u001b[39;00m\n\u001b[0;32m    319\u001b[0m     \u001b[38;5;28;01mif\u001b[39;00m timeout \u001b[38;5;129;01mis\u001b[39;00m \u001b[38;5;28;01mNone\u001b[39;00m:\n\u001b[1;32m--> 320\u001b[0m         \u001b[43mwaiter\u001b[49m\u001b[38;5;241;43m.\u001b[39;49m\u001b[43macquire\u001b[49m\u001b[43m(\u001b[49m\u001b[43m)\u001b[49m\n\u001b[0;32m    321\u001b[0m         gotit \u001b[38;5;241m=\u001b[39m \u001b[38;5;28;01mTrue\u001b[39;00m\n\u001b[0;32m    322\u001b[0m     \u001b[38;5;28;01melse\u001b[39;00m:\n",
      "\u001b[1;31mKeyboardInterrupt\u001b[0m: "
     ]
    }
   ],
   "source": [
    "# https://github.com/jordanwheeler7/capstone-crop-yield/blob/main/crop_yield.ipynb\n",
    "\"\"\"\n",
    "\n",
    "To utilize this block, uncomment def perform_grid_search.\n",
    "The code is commented out due to the extinsive time and\n",
    "resources required to run the GridSearch.\n",
    "\n",
    "\"\"\"\n",
    "\n",
    "def perform_grid_search(estimator, param_grid, model_name, X_train, y_train, X_test, y_test):\n",
    "    grid_search = GridSearchCV(estimator, param_grid, cv=5, scoring='neg_mean_absolute_error', n_jobs=-1)\n",
    "    grid_search.fit(X_train, y_train)\n",
    "\n",
    "    best_estimator = grid_search.best_estimator_\n",
    "    predictions = best_estimator.predict(X_test)\n",
    "\n",
    "    best_mae = -grid_search.best_score_  # neg_mean_absolute_error is returned negative by GridSearchCV\n",
    "    mse = mean_squared_error(y_test, predictions)\n",
    "    rmse = sqrt(mse)\n",
    "    r2 = r2_score(y_test, predictions)\n",
    "\n",
    "    print(f\"{model_name} Best Parameters: {grid_search.best_params_}\")\n",
    "    print(f\"{model_name} Best MAE: {best_mae}\")\n",
    "    print(f\"{model_name} Best MSE: {mse}\")\n",
    "    print(f\"{model_name} Best RMSE: {rmse}\")\n",
    "    print(f\"{model_name} Best R-squared: {r2}\")\n",
    "\n",
    "\n",
    "# Random Forest Grid Search\n",
    "rf_params = {\n",
    "    'n_estimators': [100, 200, 300],\n",
    "    'max_depth': [None, 10, 20],\n",
    "    'min_samples_split': [2, 5, 10]\n",
    "}\n",
    "perform_grid_search(RandomForestRegressor(random_state=42), rf_params, 'Random Forest', X_train, y_train, X_test, y_test)\n",
    "\n",
    "# Gradient Boosting Grid Search\n",
    "gb_params = {\n",
    "    'n_estimators': [100, 200, 300],\n",
    "    'learning_rate': [0.01, 0.1, 0.2],\n",
    "    'max_depth': [3, 5, 10]\n",
    "}\n",
    "perform_grid_search(GradientBoostingRegressor(random_state=42), gb_params, 'Gradient Boosting', X_train, y_train, X_test, y_test)\n",
    "\n",
    "# Decision Tree Grid Search\n",
    "dt_params = {\n",
    "    'max_depth': [None, 10, 20, 30],\n",
    "    'min_samples_split': [2, 5, 10],\n",
    "    'min_samples_leaf': [1, 2, 4]\n",
    "}\n",
    "perform_grid_search(DecisionTreeRegressor(random_state=42), dt_params, 'Decision Tree', X_train, y_train, X_test, y_test)\n",
    "\n",
    "# K-Nearest Neighbors Grid Search\n",
    "knn_params = {\n",
    "    'n_neighbors': [3, 5, 7],\n",
    "    'weights': ['uniform', 'distance'],\n",
    "    'algorithm': ['auto', 'ball_tree', 'kd_tree', 'brute']\n",
    "}\n",
    "perform_grid_search(KNeighborsRegressor(), knn_params, 'K-Nearest Neighbors', X_train, y_train, X_test, y_test)\n",
    "\n",
    "# Neural Network Grid Search\n",
    "nn_params = {\n",
    "    'hidden_layer_sizes': [(50,), (100,), (50,50), (100,100)],\n",
    "    'activation': ['identity', 'logistic', 'tanh', 'relu'],\n",
    "    'solver': ['lbfgs', 'sgd', 'adam'],\n",
    "    'alpha': [0.0001, 0.001, 0.01, 0.1],\n",
    "    'learning_rate': ['constant', 'invscaling', 'adaptive'],\n",
    "    'max_iter': [200, 500, 1000]\n",
    "}\n",
    "\n",
    "# Perform grid search for MLPRegressor\n",
    "perform_grid_search(MLPRegressor(random_state=42), nn_params, 'Neural Network', X_train, y_train, X_test, y_test)"
   ]
  },
  {
   "cell_type": "code",
   "execution_count": 43,
   "id": "bb4c9b6b-3c3c-4d1b-9a08-3b4597ab47e4",
   "metadata": {},
   "outputs": [
    {
     "ename": "NameError",
     "evalue": "name 'preprocessor' is not defined",
     "output_type": "error",
     "traceback": [
      "\u001b[1;31m---------------------------------------------------------------------------\u001b[0m",
      "\u001b[1;31mNameError\u001b[0m                                 Traceback (most recent call last)",
      "Cell \u001b[1;32mIn[43], line 2\u001b[0m\n\u001b[0;32m      1\u001b[0m \u001b[38;5;66;03m# Bring in One Hot Encoder Features\u001b[39;00m\n\u001b[1;32m----> 2\u001b[0m ohe_feature_names \u001b[38;5;241m=\u001b[39m \u001b[43mpreprocessor\u001b[49m\u001b[38;5;241m.\u001b[39mnamed_transformers_[\u001b[38;5;124m'\u001b[39m\u001b[38;5;124monehot\u001b[39m\u001b[38;5;124m'\u001b[39m]\u001b[38;5;241m.\u001b[39mget_feature_names_out(categorical_features)\n\u001b[0;32m      4\u001b[0m \u001b[38;5;66;03m# Combine the one-hot encoded feature names with the numerical feature names\u001b[39;00m\n\u001b[0;32m      5\u001b[0m full_feature_names \u001b[38;5;241m=\u001b[39m np\u001b[38;5;241m.\u001b[39mconcatenate((ohe_feature_names, numerical_features))\n",
      "\u001b[1;31mNameError\u001b[0m: name 'preprocessor' is not defined"
     ]
    }
   ],
   "source": [
    "# Bring in One Hot Encoder Features\n",
    "ohe_feature_names = preprocessor.named_transformers_['onehot'].get_feature_names_out(categorical_features)\n",
    "\n",
    "# Combine the one-hot encoded feature names with the numerical feature names\n",
    "full_feature_names = np.concatenate((ohe_feature_names, numerical_features))\n",
    "\n",
    "# Ensure the length of `full_feature_names` matches the number of features in `feature_importance`\n",
    "assert len(full_feature_names) == len(feature_importance), \"Mismatch in the number of features and importances.\"\n",
    "\n",
    "# Sort the feature importances and get the indices for the top features\n",
    "sorted_indices = np.argsort(feature_importance)[::-1]\n",
    "top_n = min(len(full_feature_names), 10)\n",
    "sorted_indices_top = sorted_indices[:top_n]\n",
    "\n",
    "# Plot the feature importances\n",
    "plt.figure(figsize=(12, 8))\n",
    "plt.barh(range(top_n), feature_importance[sorted_indices_top], align='center')\n",
    "plt.yticks(range(top_n), full_feature_names[sorted_indices_top], fontsize=12) \n",
    "plt.xlabel('Importance')\n",
    "plt.ylabel('Feature')\n",
    "plt.title('Top Feature Importances for Gradient Boosting Model')\n",
    "plt.gca().invert_yaxis()\n",
    "plt.tight_layout()\n",
    "plt.show()"
   ]
  },
  {
   "cell_type": "code",
   "execution_count": null,
   "id": "0f474155-07f1-4892-81bd-bf8b38d9957f",
   "metadata": {},
   "outputs": [],
   "source": []
  }
 ],
 "metadata": {
  "kernelspec": {
   "display_name": "Python 3 (ipykernel)",
   "language": "python",
   "name": "python3"
  },
  "language_info": {
   "codemirror_mode": {
    "name": "ipython",
    "version": 3
   },
   "file_extension": ".py",
   "mimetype": "text/x-python",
   "name": "python",
   "nbconvert_exporter": "python",
   "pygments_lexer": "ipython3",
   "version": "3.10.9"
  }
 },
 "nbformat": 4,
 "nbformat_minor": 5
}
