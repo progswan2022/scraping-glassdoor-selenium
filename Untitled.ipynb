{
 "cells": [
  {
   "cell_type": "code",
   "execution_count": 1,
   "id": "a47b8dcc-f643-4f6b-801e-062a3e5fa66d",
   "metadata": {},
   "outputs": [],
   "source": [
    "\"\"\"\n",
    "Created on Saturday November 4th, 2023\n",
    "Author: Erin Swan-Siegel\n",
    "\"\"\"\n",
    "\n",
    "import pandas as pd\n",
    "\n",
    "#Correct for character error\n",
    "# data = pd.read_csv('Kaggle_data.csv')\n",
    "# data.head()\n",
    "# data.replace(to_replace='?')\n",
    "\n",
    "df = pd.read_csv(r\"C:\\Users\\erins\\OneDrive\\Desktop\\MS_Data_analytics\\44-688\\Capstone_Project\\scraping-glassdoor-selenium\\Company_Rating_Data.csv\", encoding='latin-1')"
   ]
  },
  {
   "cell_type": "code",
   "execution_count": 6,
   "id": "e34e656c-2c40-4068-943d-6969f85edcfb",
   "metadata": {},
   "outputs": [
    {
     "name": "stderr",
     "output_type": "stream",
     "text": [
      "C:\\Users\\erins\\AppData\\Local\\Temp\\ipykernel_1516\\1134722465.py:1: FutureWarning: The default value of numeric_only in DataFrame.corr is deprecated. In a future version, it will default to False. Select only valid columns or specify the value of numeric_only to silence this warning.\n",
      "  df.corr()\n"
     ]
    },
    {
     "data": {
      "text/html": [
       "<div>\n",
       "<style scoped>\n",
       "    .dataframe tbody tr th:only-of-type {\n",
       "        vertical-align: middle;\n",
       "    }\n",
       "\n",
       "    .dataframe tbody tr th {\n",
       "        vertical-align: top;\n",
       "    }\n",
       "\n",
       "    .dataframe thead th {\n",
       "        text-align: right;\n",
       "    }\n",
       "</style>\n",
       "<table border=\"1\" class=\"dataframe\">\n",
       "  <thead>\n",
       "    <tr style=\"text-align: right;\">\n",
       "      <th></th>\n",
       "      <th>Company ID</th>\n",
       "      <th>Company Rating</th>\n",
       "      <th>Year Founded</th>\n",
       "    </tr>\n",
       "  </thead>\n",
       "  <tbody>\n",
       "    <tr>\n",
       "      <th>Company ID</th>\n",
       "      <td>1.000000</td>\n",
       "      <td>-0.068404</td>\n",
       "      <td>-0.071503</td>\n",
       "    </tr>\n",
       "    <tr>\n",
       "      <th>Company Rating</th>\n",
       "      <td>-0.068404</td>\n",
       "      <td>1.000000</td>\n",
       "      <td>0.489619</td>\n",
       "    </tr>\n",
       "    <tr>\n",
       "      <th>Year Founded</th>\n",
       "      <td>-0.071503</td>\n",
       "      <td>0.489619</td>\n",
       "      <td>1.000000</td>\n",
       "    </tr>\n",
       "  </tbody>\n",
       "</table>\n",
       "</div>"
      ],
      "text/plain": [
       "                Company ID  Company Rating  Year Founded\n",
       "Company ID        1.000000       -0.068404     -0.071503\n",
       "Company Rating   -0.068404        1.000000      0.489619\n",
       "Year Founded     -0.071503        0.489619      1.000000"
      ]
     },
     "execution_count": 6,
     "metadata": {},
     "output_type": "execute_result"
    }
   ],
   "source": [
    "df.corr()"
   ]
  },
  {
   "cell_type": "code",
   "execution_count": null,
   "id": "04c58122-21ce-480b-808e-49ed0157a22f",
   "metadata": {},
   "outputs": [],
   "source": [
    "df = df.drop(['Number of Reviews','Average Salary','Job Openings','Location Website', 'Company Webpage', 'Global Size 2', 'Company Location', 'Industry 2'], axis=1)\n",
    "\n",
    "# Check for 'Unknown', -1\n",
    "df = df[df['Company Name'] != ['Unknown', '-1']] # none\n",
    "df = df[df['Global Size'] != ['Unknown', '-1']] # 883 additional\n",
    "df = df[df['Industry'] != ['Unknown', '-1']] # 746 additional\n",
    "df = df[df['Description'] != ['Unknown', '-1']] # none\n",
    "df = df[df['Company Rating'] != ['Unknown', '-1']] # 144 additional\n",
    "df = df[df['Headquarters'] != ['Unknown', '-1']] # 7 additional\n",
    "df = df[df['Company Ownership Type'] != ['Unknown', '-1']] # 27 additional\n",
    "df = df[df['Year Founded'] != ['Unknown', '-1']] # 1,053 additional\n",
    "df = df[df['Est Revenue'] != ['Unknown / Non-Applicable', '-1']] # 1,430 additional\n",
    "\n",
    "# Split state from headquarter city\n",
    "\n",
    "# Correct \"61\" from headquarter city to \"NY\"\n",
    "\n",
    "# Remove \"Headquarters\" field\n",
    "\n",
    "# Use \"Year Founded\" and calculate Age --> current year - Year Founded\n",
    "\n",
    "# Remove \"Year Founded\"\n",
    "\n",
    "# Replace ALL of the different values for each field with a number\n",
    "\n",
    "\n",
    "# Data Wrangler for help in cleaning data\n",
    "## Split out State or Country into new larger \"Geographical\" field\n",
    "\n",
    "\n",
    "# In the paper, mention consolidating Industry into certain categories using python Sequence matcher (diflib import SequenceMatcher) --> for very manually-entered data\n",
    "\n",
    "# Calculate age\n",
    "\n",
    "# NLP on Company Description"
   ]
  }
 ],
 "metadata": {
  "kernelspec": {
   "display_name": "Python 3 (ipykernel)",
   "language": "python",
   "name": "python3"
  },
  "language_info": {
   "codemirror_mode": {
    "name": "ipython",
    "version": 3
   },
   "file_extension": ".py",
   "mimetype": "text/x-python",
   "name": "python",
   "nbconvert_exporter": "python",
   "pygments_lexer": "ipython3",
   "version": "3.10.9"
  }
 },
 "nbformat": 4,
 "nbformat_minor": 5
}
